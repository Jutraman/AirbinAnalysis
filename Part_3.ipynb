{
 "cells": [
  {
   "cell_type": "markdown",
   "metadata": {
    "id": "CRlf-VjoOZ8O"
   },
   "source": [
    "# Part 3 - Text analysis and ethics"
   ]
  },
  {
   "cell_type": "markdown",
   "metadata": {
    "id": "tU8BnCXIOZ8T"
   },
   "source": [
    "# 3.a Computing PMI\n"
   ]
  },
  {
   "cell_type": "markdown",
   "metadata": {
    "id": "x_BJYvjpOZ8U"
   },
   "source": []
  },
  {
   "cell_type": "code",
   "execution_count": null,
   "metadata": {
    "ExecuteTime": {
     "end_time": "2021-06-03T09:41:03.515131Z",
     "start_time": "2021-06-03T09:41:01.497739Z"
    },
    "id": "0z_s4GpwOZ8U"
   },
   "outputs": [],
   "source": [
    "import pandas as pd\n",
    "from nltk.tag import pos_tag\n",
    "import re\n",
    "from collections import defaultdict,Counter\n",
    "from nltk.stem import WordNetLemmatizer\n",
    "from datetime import datetime\n",
    "from tqdm import tqdm\n",
    "import numpy as np\n",
    "import os\n",
    "tqdm.pandas()"
   ]
  },
  {
   "cell_type": "code",
   "execution_count": null,
   "metadata": {
    "ExecuteTime": {
     "end_time": "2021-06-03T09:41:08.156336Z",
     "start_time": "2021-06-03T09:41:08.153632Z"
    },
    "colab": {
     "base_uri": "https://localhost:8080/"
    },
    "id": "VFP8c6HlPF_-",
    "outputId": "0fa313c5-497c-44f6-f747-4d7ebf651661"
   },
   "outputs": [],
   "source": [
    "# nltk imports, note that these outputs may be different if you are using colab or local jupyter notebooks\n",
    "from nltk import *\n",
    "#nltk.download('stopwords')\n",
    "#nltk.download('punkt')\n",
    "#nltk.download('averaged_perceptron_tagger')\n",
    "from nltk.corpus import stopwords\n",
    "from nltk.tokenize import word_tokenize,sent_tokenize"
   ]
  },
  {
   "cell_type": "code",
   "execution_count": null,
   "metadata": {
    "ExecuteTime": {
     "end_time": "2021-06-03T09:41:10.377181Z",
     "start_time": "2021-06-03T09:41:10.372210Z"
    },
    "id": "9JOWJqE9Pq5V"
   },
   "outputs": [],
   "source": [
    "# load stopwords\n",
    "sw = set(stopwords.words('english'))"
   ]
  },
  {
   "cell_type": "code",
   "execution_count": null,
   "metadata": {
    "ExecuteTime": {
     "end_time": "2021-06-03T09:41:16.008270Z",
     "start_time": "2021-06-03T09:41:14.077779Z"
    },
    "id": "LVD9Q3AxOZ8V"
   },
   "outputs": [],
   "source": [
    "p = ''#getwd\n",
    "df = pd.read_csv(os.path.join(p,'reviews.csv'))\n",
    "# deal with empty reviews\n",
    "df.comments = df.comments.fillna('')"
   ]
  },
  {
   "cell_type": "code",
   "execution_count": null,
   "metadata": {
    "ExecuteTime": {
     "end_time": "2021-06-03T09:41:16.721718Z",
     "start_time": "2021-06-03T09:41:16.702451Z"
    },
    "colab": {
     "base_uri": "https://localhost:8080/",
     "height": 195
    },
    "id": "pNgPCqMPOZ8V",
    "outputId": "dd74578a-59c0-45c0-9228-3fefd61ac153"
   },
   "outputs": [],
   "source": [
    "df.head()"
   ]
  },
  {
   "cell_type": "code",
   "execution_count": null,
   "metadata": {
    "ExecuteTime": {
     "end_time": "2021-06-03T09:41:19.422162Z",
     "start_time": "2021-06-03T09:41:19.418424Z"
    },
    "colab": {
     "base_uri": "https://localhost:8080/"
    },
    "id": "O_9leP4VOZ8W",
    "outputId": "010fcf4a-300c-4749-8cb8-04bed1fe68cb"
   },
   "outputs": [],
   "source": [
    "df.shape"
   ]
  },
  {
   "cell_type": "markdown",
   "metadata": {
    "id": "fJfVvyXyPYS4"
   },
   "source": [
    "### 3.a1 - Process reviews\n"
   ]
  },
  {
   "cell_type": "code",
   "execution_count": null,
   "metadata": {
    "ExecuteTime": {
     "end_time": "2021-06-03T09:41:23.478808Z",
     "start_time": "2021-06-03T09:41:23.473843Z"
    },
    "id": "b7jF_XXsQYgK"
   },
   "outputs": [],
   "source": [
    "def process_reviews(df):\n",
    "    content=df['comments']\n",
    "    #df_nl=pd.DataFrame(columns=['tokenized','tagged','lower_tagged'])\n",
    "    tokenized=[]\n",
    "    tagged=[]\n",
    "    lower_tagged=[]\n",
    "    for sentence in content:\n",
    "        #print(sentence)\n",
    "        tokens=word_tokenize(str(sentence))\n",
    "        tokenized.append(tokens)\n",
    "        #print(tokens)\n",
    "\n",
    "        tags=pos_tag(tokens)\n",
    "        tagged.append([])\n",
    "        lower_tagged.append([])\n",
    "        for word,pos in tags:\n",
    "            if pos[0] in ('N','J','V'):\n",
    "                tagged[-1].append((word,pos))\n",
    "                lower_tagged[-1].append((word.lower(),pos))\n",
    "\n",
    "    df['tokenized']=tokenized\n",
    "    df['tagged']=tagged\n",
    "    df['lower_tagged']=lower_tagged\n",
    "    return df"
   ]
  },
  {
   "cell_type": "code",
   "execution_count": null,
   "metadata": {
    "ExecuteTime": {
     "end_time": "2021-06-03T09:57:03.394885Z",
     "start_time": "2021-06-03T09:41:25.928436Z"
    },
    "id": "rGYB8gx5Qq-P"
   },
   "outputs": [],
   "source": [
    "df = process_reviews(df)"
   ]
  },
  {
   "cell_type": "code",
   "execution_count": null,
   "metadata": {
    "ExecuteTime": {
     "end_time": "2021-06-03T09:57:03.473998Z",
     "start_time": "2021-06-03T09:57:03.398174Z"
    }
   },
   "outputs": [],
   "source": [
    "df.head()"
   ]
  },
  {
   "cell_type": "markdown",
   "metadata": {
    "id": "sUaH-yNlQRL9"
   },
   "source": [
    "### 3.a2 - Create a vocabulary\n"
   ]
  },
  {
   "cell_type": "code",
   "execution_count": null,
   "metadata": {
    "ExecuteTime": {
     "end_time": "2021-06-03T09:57:03.480287Z",
     "start_time": "2021-06-03T09:57:03.476373Z"
    },
    "id": "sAg6VRwdQQmg"
   },
   "outputs": [],
   "source": [
    "def get_vocab(df):\n",
    "  # your code here\n",
    "    vocab=[word for low_tagged in df['lower_tagged'] for word in low_tagged]\n",
    "    vocab_noun=[word for (word,tag) in vocab if tag.startswith(\"N\")]\n",
    "    vocab_noun_center=FreqDist(vocab_noun)\n",
    "    cent_vocab=[word for (word,tag) in vocab_noun_center.most_common(1000)]\n",
    "    vocab_av=[word for (word,tag) in vocab if tag.startswith(\"J\") or tag.startswith(\"V\")]\n",
    "    vocab_av_center=FreqDist(vocab_av)\n",
    "    cont_vocab=[word for (word,tag) in vocab_av_center.most_common(1000)]\n",
    "    return cent_vocab, cont_vocab"
   ]
  },
  {
   "cell_type": "code",
   "execution_count": null,
   "metadata": {
    "ExecuteTime": {
     "end_time": "2021-06-03T09:57:17.361550Z",
     "start_time": "2021-06-03T09:57:03.482487Z"
    },
    "id": "F_R5l4IVSk9-"
   },
   "outputs": [],
   "source": [
    "cent_vocab, cont_vocab = get_vocab(df)"
   ]
  },
  {
   "cell_type": "code",
   "execution_count": null,
   "metadata": {
    "ExecuteTime": {
     "end_time": "2021-06-03T09:57:17.372494Z",
     "start_time": "2021-06-03T09:57:17.365059Z"
    }
   },
   "outputs": [],
   "source": [
    "cent_vocab[1:20]"
   ]
  },
  {
   "cell_type": "code",
   "execution_count": null,
   "metadata": {
    "ExecuteTime": {
     "end_time": "2021-06-03T09:57:17.380092Z",
     "start_time": "2021-06-03T09:57:17.375035Z"
    }
   },
   "outputs": [],
   "source": [
    "cont_vocab[1:20]"
   ]
  },
  {
   "cell_type": "markdown",
   "metadata": {
    "id": "qkqRGdQ_RUMg"
   },
   "source": [
    "### 3.a3 Count co-occurrences between center and context words\n"
   ]
  },
  {
   "cell_type": "code",
   "execution_count": null,
   "metadata": {
    "ExecuteTime": {
     "end_time": "2021-06-03T09:57:17.387150Z",
     "start_time": "2021-06-03T09:57:17.382331Z"
    },
    "id": "ddnfCbQWRd5R"
   },
   "outputs": [],
   "source": [
    "def get_coocs(df, cent_vocab, cont_vocab):\n",
    "  # your code here\n",
    "    sentences=df['comments']\n",
    "    dic=defaultdict(int)\n",
    "    for sentence in sentences:\n",
    "        tokens=word_tokenize(str(sentence))\n",
    "        for token in tokens:\n",
    "            if token in cent_vocab:\n",
    "                if dic[token]==0:\n",
    "                    dic_sub=defaultdict(int)\n",
    "                else:\n",
    "                    dic_sub=dic[token]\n",
    "                for token_av in tokens:\n",
    "                    if token_av in cont_vocab:\n",
    "                        dic_sub[token_av]+=1\n",
    "                dic[token]=dic_sub\n",
    "    coocs=dic\n",
    "    return coocs  "
   ]
  },
  {
   "cell_type": "code",
   "execution_count": null,
   "metadata": {
    "ExecuteTime": {
     "end_time": "2021-06-03T12:06:25.993353Z",
     "start_time": "2021-06-03T12:06:22.273502Z"
    },
    "id": "iTT_TOkaSoXL"
   },
   "outputs": [],
   "source": [
    "coocs = get_coocs(df, cent_vocab, cont_vocab)"
   ]
  },
  {
   "cell_type": "code",
   "execution_count": null,
   "metadata": {
    "ExecuteTime": {
     "end_time": "2021-06-03T12:07:02.591509Z",
     "start_time": "2021-06-03T12:06:50.878819Z"
    }
   },
   "outputs": [],
   "source": [
    "coocs"
   ]
  },
  {
   "cell_type": "markdown",
   "metadata": {
    "id": "be6mOXqMRlt-"
   },
   "source": [
    "### 3.a4 Convert co-occurrence dictionary to 1000x1000 dataframe"
   ]
  },
  {
   "cell_type": "code",
   "execution_count": null,
   "metadata": {
    "ExecuteTime": {
     "end_time": "2021-06-03T12:08:11.636642Z",
     "start_time": "2021-06-03T12:08:11.630273Z"
    },
    "id": "C6WuM5U7RsBJ"
   },
   "outputs": [],
   "source": [
    "def cooc_dict2df(coocs):\n",
    "  # your code here\n",
    "    coocdf=pd.DataFrame(index=cent_vocab,columns=cont_vocab)\n",
    "    for row,dic in coocs.items():\n",
    "        for col,value in dic.items():\n",
    "            df.at[row,col]=value\n",
    "    coocdf.fillna(value=0,inplace=True)\n",
    "    return coocdf"
   ]
  },
  {
   "cell_type": "code",
   "execution_count": null,
   "metadata": {
    "ExecuteTime": {
     "end_time": "2021-06-03T22:58:29.071058Z",
     "start_time": "2021-06-03T12:08:14.956723Z"
    },
    "id": "cwAflxldSrbg"
   },
   "outputs": [],
   "source": [
    "coocdf = cooc_dict2df(coocs)\n",
    "coocdf.shape"
   ]
  },
  {
   "cell_type": "markdown",
   "metadata": {
    "id": "3EWllWryR-QL"
   },
   "source": [
    "### 3.a5 Raw co-occurrences to PMI scores\n"
   ]
  },
  {
   "cell_type": "code",
   "execution_count": null,
   "metadata": {
    "ExecuteTime": {
     "end_time": "2021-06-03T23:26:58.421082Z",
     "start_time": "2021-06-03T23:26:58.418160Z"
    },
    "id": "frTTs7-eSFHv"
   },
   "outputs": [],
   "source": [
    "def cooc2pmi(df):\n",
    "  # your code here\n",
    "    s=sum(df.sum(0))\n",
    "    print(s)\n",
    "    df.applymap(lambda x:np.log(x/s))\n",
    "    return pmidf"
   ]
  },
  {
   "cell_type": "code",
   "execution_count": null,
   "metadata": {
    "ExecuteTime": {
     "end_time": "2021-06-03T23:27:01.403742Z",
     "start_time": "2021-06-03T23:27:01.279933Z"
    },
    "id": "AGftXjXRSuQw"
   },
   "outputs": [],
   "source": [
    "pmidf = cooc2pmi(coocdf)"
   ]
  },
  {
   "cell_type": "markdown",
   "metadata": {
    "id": "zaLRvjRySOYB"
   },
   "source": [
    "### 3.a6 Retrieve top-k context words, given a center word\n"
   ]
  },
  {
   "cell_type": "code",
   "execution_count": null,
   "metadata": {
    "ExecuteTime": {
     "end_time": "2021-06-03T22:58:29.691903Z",
     "start_time": "2021-06-03T12:10:42.289Z"
    },
    "id": "NlKUP9SgSXlL"
   },
   "outputs": [],
   "source": [
    "def topk(df, center_word, N=10):\n",
    "    return sorted(df.loc[center_word],reverse=True)[0:N]"
   ]
  },
  {
   "cell_type": "code",
   "execution_count": null,
   "metadata": {
    "ExecuteTime": {
     "end_time": "2021-06-03T22:58:29.693064Z",
     "start_time": "2021-06-03T12:10:45.068Z"
    },
    "id": "1I038zG1Sw62"
   },
   "outputs": [],
   "source": [
    "topk(pmidf, 'coffee')"
   ]
  },
  {
   "cell_type": "markdown",
   "metadata": {
    "id": "Hfcm5-7b0HKO"
   },
   "source": [
    "\n"
   ]
  },
  {
   "cell_type": "markdown",
   "metadata": {
    "id": "qd3uf-Qq4tYg"
   },
   "source": []
  },
  {
   "cell_type": "markdown",
   "metadata": {
    "id": "A6QJyuP6I1Ht"
   },
   "source": [
    "\n"
   ]
  },
  {
   "cell_type": "code",
   "execution_count": null,
   "metadata": {},
   "outputs": [],
   "source": []
  }
 ],
 "metadata": {
  "colab": {
   "collapsed_sections": [],
   "name": "Part 3.ipynb",
   "provenance": [],
   "toc_visible": true
  },
  "kernelspec": {
   "display_name": "Python 3",
   "language": "python",
   "name": "python3"
  },
  "language_info": {
   "codemirror_mode": {
    "name": "ipython",
    "version": 3
   },
   "file_extension": ".py",
   "mimetype": "text/x-python",
   "name": "python",
   "nbconvert_exporter": "python",
   "pygments_lexer": "ipython3",
   "version": "3.8.3"
  },
  "toc": {
   "base_numbering": 1,
   "nav_menu": {},
   "number_sections": true,
   "sideBar": true,
   "skip_h1_title": false,
   "title_cell": "Table of Contents",
   "title_sidebar": "Contents",
   "toc_cell": false,
   "toc_position": {},
   "toc_section_display": true,
   "toc_window_display": false
  }
 },
 "nbformat": 4,
 "nbformat_minor": 1
}