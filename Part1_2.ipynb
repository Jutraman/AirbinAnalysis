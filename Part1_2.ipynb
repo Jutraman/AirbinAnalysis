{
 "cells": [
  {
   "cell_type": "markdown",
   "metadata": {},
   "source": [
    "---"
   ]
  },
  {
   "cell_type": "markdown",
   "metadata": {
    "id": "3Pe7XhS9wEVw"
   },
   "source": [
    "# Part 1 - Pre-processing and exploratory analysis\n"
   ]
  },
  {
   "cell_type": "code",
   "execution_count": 1,
   "metadata": {
    "colab": {
     "base_uri": "https://localhost:8080/"
    },
    "id": "acSREWbeG0mm",
    "outputId": "beeccebf-cce6-4ff7-bb6c-45988b8748f5"
   },
   "outputs": [],
   "source": [
    "import os\n",
    "import pandas as pd\n",
    "import numpy as np\n",
    "import scipy as sp\n",
    "from scipy import stats\n",
    "from scipy.stats import ttest_ind\n",
    "import seaborn as sns\n",
    "import matplotlib as plt\n",
    "import statsmodels.api as sm\n",
    "import statsmodels.formula.api as smf\n",
    "import sklearn as sk\n",
    "import datetime\n",
    "\n",
    "\n"
   ]
  },
  {
   "cell_type": "code",
   "execution_count": 2,
   "metadata": {
    "colab": {
     "base_uri": "https://localhost:8080/"
    },
    "id": "A6CTk1ZiFVIk",
    "outputId": "289693f3-8883-4104-f861-7b2a5c219e8a"
   },
   "outputs": [],
   "source": []
  },
  {
   "cell_type": "code",
   "execution_count": 3,
   "metadata": {
    "id": "ycIjzElBzG2x"
   },
   "outputs": [],
   "source": [
    "basedir = ''"
   ]
  },
  {
   "cell_type": "markdown",
   "metadata": {
    "id": "vwuEFzzUKzJW"
   },
   "source": [
    "\n",
    "***Dataframe columns description***:\n",
    "\n",
    "- `id` - unique ID identifying the listing\n",
    "\n",
    "- `name` - title of the listing\n",
    "\n",
    "- `host_id` - unique ID for a host\n",
    "\n",
    "- `host_name` - first name of the host\n",
    "\n",
    "- `host_since` - date that the host first joined Airbnb\n",
    "\n",
    "- `host_is_superhost` - whether or not the host is a superhost, which is a mark of quality for the top-rated and most experienced hosts, and can increase your search ranking on Airbnb\n",
    "\n",
    "- `host_listings_count` - how many listings the host has in total\n",
    "\n",
    "- `host_has_profile_pic` - whether or not the host has a profile picture\n",
    "\n",
    "- `host_identity_verified` - whether or not the host has been verified with his passport\n",
    "\n",
    "- `neighbourhood_cleansed` - the borough the property is in\n",
    "\n",
    "- `latitude` and `longitude` - geolocation coordinates of the property\n",
    "\n",
    "- `property_type` - type of property, e.g. house or flat\n",
    "\n",
    "- `room_type` - type of listing, e.g. entire home, private room or shared room\n",
    "\n",
    "- `accommodates` - how many people the property accommodates\n",
    "\n",
    "- `bedrooms` - number of bedrooms\n",
    "\n",
    "- `beds` - number of beds\n",
    "\n",
    "- `price` - nightly advertised price (the target variable)\n",
    "\n",
    "- `minimum_nights` - the minimum length of stay\n",
    "\n",
    "- `maximum_nights` - the maximum length of stay\n",
    "\n",
    "- `availability_30` - how many nights are available to be booked in the next 30 days\n",
    "\n",
    "- `availability_60` - how many nights are available to be booked in the next 60 days\n",
    "\n",
    "- `availability_90` - how many nights are available to be booked in the next 90 days\n",
    "\n",
    "- `availability_365` - how many nights are available to be booked in the next 365 days\n",
    "\n",
    "- `number_of_reviews` - the number of reviews left for the property\n",
    "\n",
    "- `number_of_reviews_ltm` - the number of reviews left for the property in the last twelve months\n",
    "\n",
    "- `first_review` - the date of the first review\n",
    "\n",
    "- `last_review` - the date of the most recent review\n",
    "\n",
    "- `review_scores_rating` - guests can score properties overall from 1 to 5 stars\n",
    "\n",
    "- `review_scores_accuracy` - guests can score the accuracy of a property's description from 1 to 5 stars\n",
    "\n",
    "- `review_scores_cleanliness` - guests can score a property's cleanliness from 1 to 5 stars\n",
    "\n",
    "- `review_scores_checkin` - guests can score their check-in from 1 to 5 stars\n",
    "\n",
    "- `review_scores_communication` - guests can score a host's communication from 1 to 5 stars\n",
    "\n",
    "- `review_scores_location` - guests can score a property's location from 1 to 5 stars\n",
    "\n",
    "- `review_scores_value` - guests can score a booking's value for money from 1 to 5 stars\n",
    "\n",
    "- `instant_bookable` - whether or not the property can be instant booked (i.e. booked straight away, without having to message the host first and wait to be accepted)\n",
    "\n",
    "- `reviews_per_month` - calculated field of the average number of reviews left by guest each month\n",
    "\n"
   ]
  },
  {
   "cell_type": "code",
   "execution_count": 4,
   "metadata": {
    "id": "K4zobPQJzKAX"
   },
   "outputs": [],
   "source": [
    "### DO NOT CHANGE THIS CELL\n",
    "def load_csv(basedir):\n",
    "  return pd.read_csv(os.path.join(basedir, 'listings.csv'))"
   ]
  },
  {
   "cell_type": "code",
   "execution_count": 5,
   "metadata": {
    "colab": {
     "base_uri": "https://localhost:8080/",
     "height": 581
    },
    "id": "73pNEQSv5_WZ",
    "outputId": "8f8c9c0b-f9eb-466e-e047-9e7e4d40dbbe"
   },
   "outputs": [
    {
     "data": {
      "text/html": [
       "<div>\n",
       "<style scoped>\n",
       "    .dataframe tbody tr th:only-of-type {\n",
       "        vertical-align: middle;\n",
       "    }\n",
       "\n",
       "    .dataframe tbody tr th {\n",
       "        vertical-align: top;\n",
       "    }\n",
       "\n",
       "    .dataframe thead th {\n",
       "        text-align: right;\n",
       "    }\n",
       "</style>\n",
       "<table border=\"1\" class=\"dataframe\">\n",
       "  <thead>\n",
       "    <tr style=\"text-align: right;\">\n",
       "      <th></th>\n",
       "      <th>id</th>\n",
       "      <th>listing_url</th>\n",
       "      <th>scrape_id</th>\n",
       "      <th>last_scraped</th>\n",
       "      <th>name</th>\n",
       "      <th>description</th>\n",
       "      <th>neighborhood_overview</th>\n",
       "      <th>picture_url</th>\n",
       "      <th>host_id</th>\n",
       "      <th>host_url</th>\n",
       "      <th>...</th>\n",
       "      <th>review_scores_communication</th>\n",
       "      <th>review_scores_location</th>\n",
       "      <th>review_scores_value</th>\n",
       "      <th>license</th>\n",
       "      <th>instant_bookable</th>\n",
       "      <th>calculated_host_listings_count</th>\n",
       "      <th>calculated_host_listings_count_entire_homes</th>\n",
       "      <th>calculated_host_listings_count_private_rooms</th>\n",
       "      <th>calculated_host_listings_count_shared_rooms</th>\n",
       "      <th>reviews_per_month</th>\n",
       "    </tr>\n",
       "  </thead>\n",
       "  <tbody>\n",
       "    <tr>\n",
       "      <th>0</th>\n",
       "      <td>2818</td>\n",
       "      <td>https://www.airbnb.com/rooms/2818</td>\n",
       "      <td>20201212211823</td>\n",
       "      <td>2020-12-13</td>\n",
       "      <td>Quiet Garden View Room &amp; Super Fast WiFi</td>\n",
       "      <td>Quiet Garden View Room &amp; Super Fast WiFi&lt;br /&gt;...</td>\n",
       "      <td>Indische Buurt (\"Indies Neighborhood\") is a ne...</td>\n",
       "      <td>https://a0.muscache.com/pictures/10272854/8dcc...</td>\n",
       "      <td>3159</td>\n",
       "      <td>https://www.airbnb.com/users/show/3159</td>\n",
       "      <td>...</td>\n",
       "      <td>10.0</td>\n",
       "      <td>9.0</td>\n",
       "      <td>10.0</td>\n",
       "      <td>NaN</td>\n",
       "      <td>t</td>\n",
       "      <td>1</td>\n",
       "      <td>0</td>\n",
       "      <td>1</td>\n",
       "      <td>0</td>\n",
       "      <td>1.95</td>\n",
       "    </tr>\n",
       "    <tr>\n",
       "      <th>1</th>\n",
       "      <td>20168</td>\n",
       "      <td>https://www.airbnb.com/rooms/20168</td>\n",
       "      <td>20201212211823</td>\n",
       "      <td>2020-12-13</td>\n",
       "      <td>Studio with private bathroom in the centre 1</td>\n",
       "      <td>17th century Dutch townhouse in the heart of t...</td>\n",
       "      <td>Located just in between famous central canals....</td>\n",
       "      <td>https://a0.muscache.com/pictures/69979628/fd6a...</td>\n",
       "      <td>59484</td>\n",
       "      <td>https://www.airbnb.com/users/show/59484</td>\n",
       "      <td>...</td>\n",
       "      <td>10.0</td>\n",
       "      <td>10.0</td>\n",
       "      <td>9.0</td>\n",
       "      <td>NaN</td>\n",
       "      <td>t</td>\n",
       "      <td>2</td>\n",
       "      <td>0</td>\n",
       "      <td>2</td>\n",
       "      <td>0</td>\n",
       "      <td>2.58</td>\n",
       "    </tr>\n",
       "    <tr>\n",
       "      <th>2</th>\n",
       "      <td>25428</td>\n",
       "      <td>https://www.airbnb.com/rooms/25428</td>\n",
       "      <td>20201212211823</td>\n",
       "      <td>2020-12-13</td>\n",
       "      <td>Lovely apt in City Centre (w.lift) near Jordaan</td>\n",
       "      <td>Lovely apt in Centre ( lift &amp; fireplace) near ...</td>\n",
       "      <td>NaN</td>\n",
       "      <td>https://a0.muscache.com/pictures/138431/7079a9...</td>\n",
       "      <td>56142</td>\n",
       "      <td>https://www.airbnb.com/users/show/56142</td>\n",
       "      <td>...</td>\n",
       "      <td>10.0</td>\n",
       "      <td>10.0</td>\n",
       "      <td>10.0</td>\n",
       "      <td>NaN</td>\n",
       "      <td>f</td>\n",
       "      <td>1</td>\n",
       "      <td>1</td>\n",
       "      <td>0</td>\n",
       "      <td>0</td>\n",
       "      <td>0.14</td>\n",
       "    </tr>\n",
       "    <tr>\n",
       "      <th>3</th>\n",
       "      <td>27886</td>\n",
       "      <td>https://www.airbnb.com/rooms/27886</td>\n",
       "      <td>20201212211823</td>\n",
       "      <td>2020-12-13</td>\n",
       "      <td>Romantic, stylish B&amp;B houseboat in canal district</td>\n",
       "      <td>Stylish and romantic houseboat on fantastic hi...</td>\n",
       "      <td>Central, quiet, safe, clean and beautiful.</td>\n",
       "      <td>https://a0.muscache.com/pictures/02c2da9d-660e...</td>\n",
       "      <td>97647</td>\n",
       "      <td>https://www.airbnb.com/users/show/97647</td>\n",
       "      <td>...</td>\n",
       "      <td>10.0</td>\n",
       "      <td>10.0</td>\n",
       "      <td>10.0</td>\n",
       "      <td>NaN</td>\n",
       "      <td>t</td>\n",
       "      <td>1</td>\n",
       "      <td>0</td>\n",
       "      <td>1</td>\n",
       "      <td>0</td>\n",
       "      <td>2.01</td>\n",
       "    </tr>\n",
       "    <tr>\n",
       "      <th>4</th>\n",
       "      <td>28871</td>\n",
       "      <td>https://www.airbnb.com/rooms/28871</td>\n",
       "      <td>20201212211823</td>\n",
       "      <td>2020-12-13</td>\n",
       "      <td>Comfortable double room</td>\n",
       "      <td>&lt;b&gt;The space&lt;/b&gt;&lt;br /&gt;In a monumental house ri...</td>\n",
       "      <td>Flower market , Leidseplein , Rembrantsplein</td>\n",
       "      <td>https://a0.muscache.com/pictures/160889/362340...</td>\n",
       "      <td>124245</td>\n",
       "      <td>https://www.airbnb.com/users/show/124245</td>\n",
       "      <td>...</td>\n",
       "      <td>10.0</td>\n",
       "      <td>10.0</td>\n",
       "      <td>10.0</td>\n",
       "      <td>NaN</td>\n",
       "      <td>f</td>\n",
       "      <td>2</td>\n",
       "      <td>0</td>\n",
       "      <td>2</td>\n",
       "      <td>0</td>\n",
       "      <td>2.68</td>\n",
       "    </tr>\n",
       "  </tbody>\n",
       "</table>\n",
       "<p>5 rows × 74 columns</p>\n",
       "</div>"
      ],
      "text/plain": [
       "      id                         listing_url       scrape_id last_scraped  \\\n",
       "0   2818   https://www.airbnb.com/rooms/2818  20201212211823   2020-12-13   \n",
       "1  20168  https://www.airbnb.com/rooms/20168  20201212211823   2020-12-13   \n",
       "2  25428  https://www.airbnb.com/rooms/25428  20201212211823   2020-12-13   \n",
       "3  27886  https://www.airbnb.com/rooms/27886  20201212211823   2020-12-13   \n",
       "4  28871  https://www.airbnb.com/rooms/28871  20201212211823   2020-12-13   \n",
       "\n",
       "                                                name  \\\n",
       "0           Quiet Garden View Room & Super Fast WiFi   \n",
       "1       Studio with private bathroom in the centre 1   \n",
       "2    Lovely apt in City Centre (w.lift) near Jordaan   \n",
       "3  Romantic, stylish B&B houseboat in canal district   \n",
       "4                            Comfortable double room   \n",
       "\n",
       "                                         description  \\\n",
       "0  Quiet Garden View Room & Super Fast WiFi<br />...   \n",
       "1  17th century Dutch townhouse in the heart of t...   \n",
       "2  Lovely apt in Centre ( lift & fireplace) near ...   \n",
       "3  Stylish and romantic houseboat on fantastic hi...   \n",
       "4  <b>The space</b><br />In a monumental house ri...   \n",
       "\n",
       "                               neighborhood_overview  \\\n",
       "0  Indische Buurt (\"Indies Neighborhood\") is a ne...   \n",
       "1  Located just in between famous central canals....   \n",
       "2                                                NaN   \n",
       "3         Central, quiet, safe, clean and beautiful.   \n",
       "4       Flower market , Leidseplein , Rembrantsplein   \n",
       "\n",
       "                                         picture_url  host_id  \\\n",
       "0  https://a0.muscache.com/pictures/10272854/8dcc...     3159   \n",
       "1  https://a0.muscache.com/pictures/69979628/fd6a...    59484   \n",
       "2  https://a0.muscache.com/pictures/138431/7079a9...    56142   \n",
       "3  https://a0.muscache.com/pictures/02c2da9d-660e...    97647   \n",
       "4  https://a0.muscache.com/pictures/160889/362340...   124245   \n",
       "\n",
       "                                   host_url  ... review_scores_communication  \\\n",
       "0    https://www.airbnb.com/users/show/3159  ...                        10.0   \n",
       "1   https://www.airbnb.com/users/show/59484  ...                        10.0   \n",
       "2   https://www.airbnb.com/users/show/56142  ...                        10.0   \n",
       "3   https://www.airbnb.com/users/show/97647  ...                        10.0   \n",
       "4  https://www.airbnb.com/users/show/124245  ...                        10.0   \n",
       "\n",
       "  review_scores_location review_scores_value license instant_bookable  \\\n",
       "0                    9.0                10.0     NaN                t   \n",
       "1                   10.0                 9.0     NaN                t   \n",
       "2                   10.0                10.0     NaN                f   \n",
       "3                   10.0                10.0     NaN                t   \n",
       "4                   10.0                10.0     NaN                f   \n",
       "\n",
       "  calculated_host_listings_count calculated_host_listings_count_entire_homes  \\\n",
       "0                              1                                           0   \n",
       "1                              2                                           0   \n",
       "2                              1                                           1   \n",
       "3                              1                                           0   \n",
       "4                              2                                           0   \n",
       "\n",
       "  calculated_host_listings_count_private_rooms  \\\n",
       "0                                            1   \n",
       "1                                            2   \n",
       "2                                            0   \n",
       "3                                            1   \n",
       "4                                            2   \n",
       "\n",
       "  calculated_host_listings_count_shared_rooms reviews_per_month  \n",
       "0                                           0              1.95  \n",
       "1                                           0              2.58  \n",
       "2                                           0              0.14  \n",
       "3                                           0              2.01  \n",
       "4                                           0              2.68  \n",
       "\n",
       "[5 rows x 74 columns]"
      ]
     },
     "execution_count": 5,
     "metadata": {},
     "output_type": "execute_result"
    }
   ],
   "source": [
    "### DO NOT CHANGE THIS CELL\n",
    "df = load_csv(basedir)\n",
    "df.head()"
   ]
  },
  {
   "cell_type": "markdown",
   "metadata": {
    "id": "Pzc714QhKf3g"
   },
   "source": []
  },
  {
   "cell_type": "code",
   "execution_count": 6,
   "metadata": {
    "id": "8m6wSWKPJPLR"
   },
   "outputs": [],
   "source": [
    "\n",
    "def drop_cols(df):\n",
    "    cols=['scrape_id','last_scraped','description','listing_url','neighbourhood','calendar_last_scraped', 'amenities',\n",
    "          'neighborhood_overview', 'picture_url','host_url', 'host_about', 'host_location','host_total_listings_count',\n",
    "          'host_thumbnail_url','host_picture_url','host_verifications','bathrooms_text','has_availability','minimum_minimum_nights',\n",
    "          'maximum_minimum_nights','minimum_maximum_nights','maximum_maximum_nights','minimum_nights_avg_ntm','maximum_nights_avg_ntm',\n",
    "          'number_of_reviews_l30d','calculated_host_listings_count','calculated_host_listings_count_entire_homes','calculated_host_listings_count_private_rooms',\n",
    "          'calculated_host_listings_count_shared_rooms']\n",
    "    df=df.drop(columns=cols,axis=1)\n",
    "    return df"
   ]
  },
  {
   "cell_type": "code",
   "execution_count": 7,
   "metadata": {
    "colab": {
     "base_uri": "https://localhost:8080/"
    },
    "id": "GpBDncpjFrDh",
    "outputId": "569c0e41-7392-43b4-a9ec-06aa9374b7a8"
   },
   "outputs": [
    {
     "data": {
      "text/html": [
       "<div>\n",
       "<style scoped>\n",
       "    .dataframe tbody tr th:only-of-type {\n",
       "        vertical-align: middle;\n",
       "    }\n",
       "\n",
       "    .dataframe tbody tr th {\n",
       "        vertical-align: top;\n",
       "    }\n",
       "\n",
       "    .dataframe thead th {\n",
       "        text-align: right;\n",
       "    }\n",
       "</style>\n",
       "<table border=\"1\" class=\"dataframe\">\n",
       "  <thead>\n",
       "    <tr style=\"text-align: right;\">\n",
       "      <th></th>\n",
       "      <th>id</th>\n",
       "      <th>name</th>\n",
       "      <th>host_id</th>\n",
       "      <th>host_name</th>\n",
       "      <th>host_since</th>\n",
       "      <th>host_response_time</th>\n",
       "      <th>host_response_rate</th>\n",
       "      <th>host_acceptance_rate</th>\n",
       "      <th>host_is_superhost</th>\n",
       "      <th>host_neighbourhood</th>\n",
       "      <th>...</th>\n",
       "      <th>review_scores_rating</th>\n",
       "      <th>review_scores_accuracy</th>\n",
       "      <th>review_scores_cleanliness</th>\n",
       "      <th>review_scores_checkin</th>\n",
       "      <th>review_scores_communication</th>\n",
       "      <th>review_scores_location</th>\n",
       "      <th>review_scores_value</th>\n",
       "      <th>license</th>\n",
       "      <th>instant_bookable</th>\n",
       "      <th>reviews_per_month</th>\n",
       "    </tr>\n",
       "  </thead>\n",
       "  <tbody>\n",
       "    <tr>\n",
       "      <th>0</th>\n",
       "      <td>2818</td>\n",
       "      <td>Quiet Garden View Room &amp; Super Fast WiFi</td>\n",
       "      <td>3159</td>\n",
       "      <td>Daniel</td>\n",
       "      <td>2008-09-24</td>\n",
       "      <td>NaN</td>\n",
       "      <td>NaN</td>\n",
       "      <td>100%</td>\n",
       "      <td>t</td>\n",
       "      <td>Indische Buurt</td>\n",
       "      <td>...</td>\n",
       "      <td>98.0</td>\n",
       "      <td>10.0</td>\n",
       "      <td>10.0</td>\n",
       "      <td>10.0</td>\n",
       "      <td>10.0</td>\n",
       "      <td>9.0</td>\n",
       "      <td>10.0</td>\n",
       "      <td>NaN</td>\n",
       "      <td>t</td>\n",
       "      <td>1.95</td>\n",
       "    </tr>\n",
       "    <tr>\n",
       "      <th>1</th>\n",
       "      <td>20168</td>\n",
       "      <td>Studio with private bathroom in the centre 1</td>\n",
       "      <td>59484</td>\n",
       "      <td>Alexander</td>\n",
       "      <td>2009-12-02</td>\n",
       "      <td>NaN</td>\n",
       "      <td>NaN</td>\n",
       "      <td>100%</td>\n",
       "      <td>f</td>\n",
       "      <td>Grachtengordel</td>\n",
       "      <td>...</td>\n",
       "      <td>89.0</td>\n",
       "      <td>10.0</td>\n",
       "      <td>10.0</td>\n",
       "      <td>10.0</td>\n",
       "      <td>10.0</td>\n",
       "      <td>10.0</td>\n",
       "      <td>9.0</td>\n",
       "      <td>NaN</td>\n",
       "      <td>t</td>\n",
       "      <td>2.58</td>\n",
       "    </tr>\n",
       "    <tr>\n",
       "      <th>2</th>\n",
       "      <td>25428</td>\n",
       "      <td>Lovely apt in City Centre (w.lift) near Jordaan</td>\n",
       "      <td>56142</td>\n",
       "      <td>Joan</td>\n",
       "      <td>2009-11-20</td>\n",
       "      <td>within an hour</td>\n",
       "      <td>100%</td>\n",
       "      <td>57%</td>\n",
       "      <td>t</td>\n",
       "      <td>Grachtengordel</td>\n",
       "      <td>...</td>\n",
       "      <td>100.0</td>\n",
       "      <td>10.0</td>\n",
       "      <td>10.0</td>\n",
       "      <td>10.0</td>\n",
       "      <td>10.0</td>\n",
       "      <td>10.0</td>\n",
       "      <td>10.0</td>\n",
       "      <td>NaN</td>\n",
       "      <td>f</td>\n",
       "      <td>0.14</td>\n",
       "    </tr>\n",
       "    <tr>\n",
       "      <th>3</th>\n",
       "      <td>27886</td>\n",
       "      <td>Romantic, stylish B&amp;B houseboat in canal district</td>\n",
       "      <td>97647</td>\n",
       "      <td>Flip</td>\n",
       "      <td>2010-03-23</td>\n",
       "      <td>within an hour</td>\n",
       "      <td>100%</td>\n",
       "      <td>100%</td>\n",
       "      <td>t</td>\n",
       "      <td>Westelijke Eilanden</td>\n",
       "      <td>...</td>\n",
       "      <td>99.0</td>\n",
       "      <td>10.0</td>\n",
       "      <td>10.0</td>\n",
       "      <td>10.0</td>\n",
       "      <td>10.0</td>\n",
       "      <td>10.0</td>\n",
       "      <td>10.0</td>\n",
       "      <td>NaN</td>\n",
       "      <td>t</td>\n",
       "      <td>2.01</td>\n",
       "    </tr>\n",
       "    <tr>\n",
       "      <th>4</th>\n",
       "      <td>28871</td>\n",
       "      <td>Comfortable double room</td>\n",
       "      <td>124245</td>\n",
       "      <td>Edwin</td>\n",
       "      <td>2010-05-13</td>\n",
       "      <td>within an hour</td>\n",
       "      <td>100%</td>\n",
       "      <td>92%</td>\n",
       "      <td>t</td>\n",
       "      <td>Amsterdam Centrum</td>\n",
       "      <td>...</td>\n",
       "      <td>97.0</td>\n",
       "      <td>10.0</td>\n",
       "      <td>10.0</td>\n",
       "      <td>10.0</td>\n",
       "      <td>10.0</td>\n",
       "      <td>10.0</td>\n",
       "      <td>10.0</td>\n",
       "      <td>NaN</td>\n",
       "      <td>f</td>\n",
       "      <td>2.68</td>\n",
       "    </tr>\n",
       "  </tbody>\n",
       "</table>\n",
       "<p>5 rows × 45 columns</p>\n",
       "</div>"
      ],
      "text/plain": [
       "      id                                               name  host_id  \\\n",
       "0   2818           Quiet Garden View Room & Super Fast WiFi     3159   \n",
       "1  20168       Studio with private bathroom in the centre 1    59484   \n",
       "2  25428    Lovely apt in City Centre (w.lift) near Jordaan    56142   \n",
       "3  27886  Romantic, stylish B&B houseboat in canal district    97647   \n",
       "4  28871                            Comfortable double room   124245   \n",
       "\n",
       "   host_name  host_since host_response_time host_response_rate  \\\n",
       "0     Daniel  2008-09-24                NaN                NaN   \n",
       "1  Alexander  2009-12-02                NaN                NaN   \n",
       "2       Joan  2009-11-20     within an hour               100%   \n",
       "3       Flip  2010-03-23     within an hour               100%   \n",
       "4      Edwin  2010-05-13     within an hour               100%   \n",
       "\n",
       "  host_acceptance_rate host_is_superhost   host_neighbourhood  ...  \\\n",
       "0                 100%                 t       Indische Buurt  ...   \n",
       "1                 100%                 f       Grachtengordel  ...   \n",
       "2                  57%                 t       Grachtengordel  ...   \n",
       "3                 100%                 t  Westelijke Eilanden  ...   \n",
       "4                  92%                 t    Amsterdam Centrum  ...   \n",
       "\n",
       "   review_scores_rating review_scores_accuracy review_scores_cleanliness  \\\n",
       "0                  98.0                   10.0                      10.0   \n",
       "1                  89.0                   10.0                      10.0   \n",
       "2                 100.0                   10.0                      10.0   \n",
       "3                  99.0                   10.0                      10.0   \n",
       "4                  97.0                   10.0                      10.0   \n",
       "\n",
       "  review_scores_checkin  review_scores_communication  review_scores_location  \\\n",
       "0                  10.0                         10.0                     9.0   \n",
       "1                  10.0                         10.0                    10.0   \n",
       "2                  10.0                         10.0                    10.0   \n",
       "3                  10.0                         10.0                    10.0   \n",
       "4                  10.0                         10.0                    10.0   \n",
       "\n",
       "   review_scores_value license instant_bookable  reviews_per_month  \n",
       "0                 10.0     NaN                t               1.95  \n",
       "1                  9.0     NaN                t               2.58  \n",
       "2                 10.0     NaN                f               0.14  \n",
       "3                 10.0     NaN                t               2.01  \n",
       "4                 10.0     NaN                f               2.68  \n",
       "\n",
       "[5 rows x 45 columns]"
      ]
     },
     "execution_count": 7,
     "metadata": {},
     "output_type": "execute_result"
    }
   ],
   "source": [
    "df_drop=drop_cols(df)\n",
    "df_drop.head()"
   ]
  },
  {
   "cell_type": "code",
   "execution_count": 8,
   "metadata": {
    "id": "JgsX31bPJLfc"
   },
   "outputs": [],
   "source": [
    "def drop_cols_na(df,threshold):\n",
    "    na_rate=df.isna().sum().tolist()\n",
    "    print(na_rate)\n",
    "    cols=df.columns.tolist()\n",
    "    length=len(df)\n",
    "    #map(lambda col,na_rate: df.drop(columns=col,axis=1,inplace=True) if na_rate/length > threshold else None, cols,na_rate)\n",
    "    for i in range(len(na_rate)):\n",
    "        if na_rate[i]/length>=threshold:\n",
    "            df.drop(columns=cols[i],axis=1,inplace=True)\n",
    "    return df"
   ]
  },
  {
   "cell_type": "code",
   "execution_count": 9,
   "metadata": {
    "id": "y0DPwLXwSDGy"
   },
   "outputs": [
    {
     "name": "stdout",
     "output_type": "stream",
     "text": [
      "[0, 33, 0, 55, 55, 14273, 14273, 9255, 55, 6203, 55, 55, 55, 0, 18522, 0, 0, 0, 0, 0, 18522, 1014, 107, 0, 0, 0, 18522, 0, 0, 0, 0, 0, 0, 2375, 2375, 2620, 2630, 2630, 2638, 2631, 2636, 2636, 18522, 0, 2375]\n"
     ]
    },
    {
     "data": {
      "text/html": [
       "<div>\n",
       "<style scoped>\n",
       "    .dataframe tbody tr th:only-of-type {\n",
       "        vertical-align: middle;\n",
       "    }\n",
       "\n",
       "    .dataframe tbody tr th {\n",
       "        vertical-align: top;\n",
       "    }\n",
       "\n",
       "    .dataframe thead th {\n",
       "        text-align: right;\n",
       "    }\n",
       "</style>\n",
       "<table border=\"1\" class=\"dataframe\">\n",
       "  <thead>\n",
       "    <tr style=\"text-align: right;\">\n",
       "      <th></th>\n",
       "      <th>id</th>\n",
       "      <th>name</th>\n",
       "      <th>host_id</th>\n",
       "      <th>host_name</th>\n",
       "      <th>host_since</th>\n",
       "      <th>host_acceptance_rate</th>\n",
       "      <th>host_is_superhost</th>\n",
       "      <th>host_neighbourhood</th>\n",
       "      <th>host_listings_count</th>\n",
       "      <th>host_has_profile_pic</th>\n",
       "      <th>...</th>\n",
       "      <th>last_review</th>\n",
       "      <th>review_scores_rating</th>\n",
       "      <th>review_scores_accuracy</th>\n",
       "      <th>review_scores_cleanliness</th>\n",
       "      <th>review_scores_checkin</th>\n",
       "      <th>review_scores_communication</th>\n",
       "      <th>review_scores_location</th>\n",
       "      <th>review_scores_value</th>\n",
       "      <th>instant_bookable</th>\n",
       "      <th>reviews_per_month</th>\n",
       "    </tr>\n",
       "  </thead>\n",
       "  <tbody>\n",
       "    <tr>\n",
       "      <th>0</th>\n",
       "      <td>2818</td>\n",
       "      <td>Quiet Garden View Room &amp; Super Fast WiFi</td>\n",
       "      <td>3159</td>\n",
       "      <td>Daniel</td>\n",
       "      <td>2008-09-24</td>\n",
       "      <td>100%</td>\n",
       "      <td>t</td>\n",
       "      <td>Indische Buurt</td>\n",
       "      <td>1.0</td>\n",
       "      <td>t</td>\n",
       "      <td>...</td>\n",
       "      <td>2020-02-14</td>\n",
       "      <td>98.0</td>\n",
       "      <td>10.0</td>\n",
       "      <td>10.0</td>\n",
       "      <td>10.0</td>\n",
       "      <td>10.0</td>\n",
       "      <td>9.0</td>\n",
       "      <td>10.0</td>\n",
       "      <td>t</td>\n",
       "      <td>1.95</td>\n",
       "    </tr>\n",
       "    <tr>\n",
       "      <th>1</th>\n",
       "      <td>20168</td>\n",
       "      <td>Studio with private bathroom in the centre 1</td>\n",
       "      <td>59484</td>\n",
       "      <td>Alexander</td>\n",
       "      <td>2009-12-02</td>\n",
       "      <td>100%</td>\n",
       "      <td>f</td>\n",
       "      <td>Grachtengordel</td>\n",
       "      <td>2.0</td>\n",
       "      <td>t</td>\n",
       "      <td>...</td>\n",
       "      <td>2020-04-09</td>\n",
       "      <td>89.0</td>\n",
       "      <td>10.0</td>\n",
       "      <td>10.0</td>\n",
       "      <td>10.0</td>\n",
       "      <td>10.0</td>\n",
       "      <td>10.0</td>\n",
       "      <td>9.0</td>\n",
       "      <td>t</td>\n",
       "      <td>2.58</td>\n",
       "    </tr>\n",
       "    <tr>\n",
       "      <th>2</th>\n",
       "      <td>25428</td>\n",
       "      <td>Lovely apt in City Centre (w.lift) near Jordaan</td>\n",
       "      <td>56142</td>\n",
       "      <td>Joan</td>\n",
       "      <td>2009-11-20</td>\n",
       "      <td>57%</td>\n",
       "      <td>t</td>\n",
       "      <td>Grachtengordel</td>\n",
       "      <td>2.0</td>\n",
       "      <td>t</td>\n",
       "      <td>...</td>\n",
       "      <td>2020-02-09</td>\n",
       "      <td>100.0</td>\n",
       "      <td>10.0</td>\n",
       "      <td>10.0</td>\n",
       "      <td>10.0</td>\n",
       "      <td>10.0</td>\n",
       "      <td>10.0</td>\n",
       "      <td>10.0</td>\n",
       "      <td>f</td>\n",
       "      <td>0.14</td>\n",
       "    </tr>\n",
       "    <tr>\n",
       "      <th>3</th>\n",
       "      <td>27886</td>\n",
       "      <td>Romantic, stylish B&amp;B houseboat in canal district</td>\n",
       "      <td>97647</td>\n",
       "      <td>Flip</td>\n",
       "      <td>2010-03-23</td>\n",
       "      <td>100%</td>\n",
       "      <td>t</td>\n",
       "      <td>Westelijke Eilanden</td>\n",
       "      <td>1.0</td>\n",
       "      <td>t</td>\n",
       "      <td>...</td>\n",
       "      <td>2020-07-25</td>\n",
       "      <td>99.0</td>\n",
       "      <td>10.0</td>\n",
       "      <td>10.0</td>\n",
       "      <td>10.0</td>\n",
       "      <td>10.0</td>\n",
       "      <td>10.0</td>\n",
       "      <td>10.0</td>\n",
       "      <td>t</td>\n",
       "      <td>2.01</td>\n",
       "    </tr>\n",
       "    <tr>\n",
       "      <th>4</th>\n",
       "      <td>28871</td>\n",
       "      <td>Comfortable double room</td>\n",
       "      <td>124245</td>\n",
       "      <td>Edwin</td>\n",
       "      <td>2010-05-13</td>\n",
       "      <td>92%</td>\n",
       "      <td>t</td>\n",
       "      <td>Amsterdam Centrum</td>\n",
       "      <td>2.0</td>\n",
       "      <td>t</td>\n",
       "      <td>...</td>\n",
       "      <td>2020-09-20</td>\n",
       "      <td>97.0</td>\n",
       "      <td>10.0</td>\n",
       "      <td>10.0</td>\n",
       "      <td>10.0</td>\n",
       "      <td>10.0</td>\n",
       "      <td>10.0</td>\n",
       "      <td>10.0</td>\n",
       "      <td>f</td>\n",
       "      <td>2.68</td>\n",
       "    </tr>\n",
       "  </tbody>\n",
       "</table>\n",
       "<p>5 rows × 39 columns</p>\n",
       "</div>"
      ],
      "text/plain": [
       "      id                                               name  host_id  \\\n",
       "0   2818           Quiet Garden View Room & Super Fast WiFi     3159   \n",
       "1  20168       Studio with private bathroom in the centre 1    59484   \n",
       "2  25428    Lovely apt in City Centre (w.lift) near Jordaan    56142   \n",
       "3  27886  Romantic, stylish B&B houseboat in canal district    97647   \n",
       "4  28871                            Comfortable double room   124245   \n",
       "\n",
       "   host_name  host_since host_acceptance_rate host_is_superhost  \\\n",
       "0     Daniel  2008-09-24                 100%                 t   \n",
       "1  Alexander  2009-12-02                 100%                 f   \n",
       "2       Joan  2009-11-20                  57%                 t   \n",
       "3       Flip  2010-03-23                 100%                 t   \n",
       "4      Edwin  2010-05-13                  92%                 t   \n",
       "\n",
       "    host_neighbourhood  host_listings_count host_has_profile_pic  ...  \\\n",
       "0       Indische Buurt                  1.0                    t  ...   \n",
       "1       Grachtengordel                  2.0                    t  ...   \n",
       "2       Grachtengordel                  2.0                    t  ...   \n",
       "3  Westelijke Eilanden                  1.0                    t  ...   \n",
       "4    Amsterdam Centrum                  2.0                    t  ...   \n",
       "\n",
       "  last_review review_scores_rating  review_scores_accuracy  \\\n",
       "0  2020-02-14                 98.0                    10.0   \n",
       "1  2020-04-09                 89.0                    10.0   \n",
       "2  2020-02-09                100.0                    10.0   \n",
       "3  2020-07-25                 99.0                    10.0   \n",
       "4  2020-09-20                 97.0                    10.0   \n",
       "\n",
       "   review_scores_cleanliness review_scores_checkin  \\\n",
       "0                       10.0                  10.0   \n",
       "1                       10.0                  10.0   \n",
       "2                       10.0                  10.0   \n",
       "3                       10.0                  10.0   \n",
       "4                       10.0                  10.0   \n",
       "\n",
       "  review_scores_communication  review_scores_location  review_scores_value  \\\n",
       "0                        10.0                     9.0                 10.0   \n",
       "1                        10.0                    10.0                  9.0   \n",
       "2                        10.0                    10.0                 10.0   \n",
       "3                        10.0                    10.0                 10.0   \n",
       "4                        10.0                    10.0                 10.0   \n",
       "\n",
       "   instant_bookable reviews_per_month  \n",
       "0                 t              1.95  \n",
       "1                 t              2.58  \n",
       "2                 f              0.14  \n",
       "3                 t              2.01  \n",
       "4                 f              2.68  \n",
       "\n",
       "[5 rows x 39 columns]"
      ]
     },
     "execution_count": 9,
     "metadata": {},
     "output_type": "execute_result"
    }
   ],
   "source": [
    "df_drop_na=drop_cols_na(df_drop,0.5)\n",
    "df_drop_na.head()"
   ]
  },
  {
   "cell_type": "markdown",
   "metadata": {
    "id": "y6SMYnVDKt1d"
   },
   "source": []
  },
  {
   "cell_type": "code",
   "execution_count": 10,
   "metadata": {
    "id": "lcw2iovWK-EN"
   },
   "outputs": [],
   "source": [
    "def binary_encoding(df):\n",
    "    cols=['host_is_superhost','host_has_profile_pic','host_identity_verified','instant_bookable']\n",
    "    for i in cols:\n",
    "        df[i]=np.where(df[i]=='t',1,0)\n",
    "    return df"
   ]
  },
  {
   "cell_type": "code",
   "execution_count": 11,
   "metadata": {
    "id": "aZ7BoRBhlbYV"
   },
   "outputs": [],
   "source": [
    "df_drop_na_num=binary_encoding(df_drop_na)"
   ]
  },
  {
   "cell_type": "code",
   "execution_count": 12,
   "metadata": {
    "id": "nKc_EqKdLDdV"
   },
   "outputs": [],
   "source": [
    "# hint: check Pandas to_datetime method\n",
    "def add_host_days(df):\n",
    "    df['host_since']=pd.to_datetime(df['host_since'])\n",
    "    df['host_days']=(datetime.datetime.now()-df['host_since']).dt.days\n",
    "    return df"
   ]
  },
  {
   "cell_type": "code",
   "execution_count": 13,
   "metadata": {},
   "outputs": [],
   "source": [
    "df_drop_na_num_days=add_host_days(df_drop_na_num)"
   ]
  },
  {
   "cell_type": "code",
   "execution_count": 14,
   "metadata": {
    "id": "1KNvK2SKLEcW"
   },
   "outputs": [],
   "source": [
    "def convert_price(df):\n",
    "    df['price']=df['price'].map(lambda x:x[1:]).str.replace(',','').astype(float)\n",
    "    return df"
   ]
  },
  {
   "cell_type": "code",
   "execution_count": 15,
   "metadata": {},
   "outputs": [],
   "source": [
    "df_drop_na_num_days_price=convert_price(df_drop_na_num_days)"
   ]
  },
  {
   "cell_type": "code",
   "execution_count": 16,
   "metadata": {},
   "outputs": [
    {
     "data": {
      "text/plain": [
       "0     59.0\n",
       "1    236.0\n",
       "2    125.0\n",
       "3    135.0\n",
       "4     75.0\n",
       "Name: price, dtype: float64"
      ]
     },
     "execution_count": 16,
     "metadata": {},
     "output_type": "execute_result"
    }
   ],
   "source": [
    "df_drop_na_num_days_price['price'].head()"
   ]
  },
  {
   "cell_type": "code",
   "execution_count": null,
   "metadata": {
    "id": "MTGf_mt2iwwG"
   },
   "outputs": [],
   "source": []
  },
  {
   "cell_type": "markdown",
   "metadata": {
    "id": "F1T-93iSQoXO"
   },
   "source": [
    "\n",
    "```python\n",
    "# What is the total number of rows in the dataframe?\n",
    "df.shape[0]\n",
    "```\n",
    "\n"
   ]
  },
  {
   "cell_type": "code",
   "execution_count": 17,
   "metadata": {
    "colab": {
     "base_uri": "https://localhost:8080/"
    },
    "id": "gM3BRpVlni7z",
    "outputId": "627f63ee-841f-4a33-d42b-d68592613e26"
   },
   "outputs": [
    {
     "data": {
      "text/plain": [
       "4172"
      ]
     },
     "execution_count": 17,
     "metadata": {},
     "output_type": "execute_result"
    }
   ],
   "source": [
    "# How many hosts offer 2 or more properties for rent?\n",
    "df_drop_na_num_days_price[df['host_listings_count']>1].shape[0]\n",
    "# 4172"
   ]
  },
  {
   "cell_type": "code",
   "execution_count": 18,
   "metadata": {
    "colab": {
     "base_uri": "https://localhost:8080/"
    },
    "id": "angGfYJxpOJ5",
    "outputId": "9a71425f-c1fc-4e46-d100-b4acb3729fbe"
   },
   "outputs": [
    {
     "data": {
      "text/plain": [
       "8000.0"
      ]
     },
     "execution_count": 18,
     "metadata": {},
     "output_type": "execute_result"
    }
   ],
   "source": [
    "# What is the highest price for a listing?\n",
    "df_drop_na_num_days_price['price'].max()"
   ]
  },
  {
   "cell_type": "code",
   "execution_count": 19,
   "metadata": {
    "colab": {
     "base_uri": "https://localhost:8080/"
    },
    "id": "WRiPS2fypnz3",
    "outputId": "02a948d4-3afc-414a-e188-4e0bdfa88fa4"
   },
   "outputs": [
    {
     "data": {
      "text/plain": [
       "(array([18352], dtype=int64),)"
      ]
     },
     "execution_count": 19,
     "metadata": {},
     "output_type": "execute_result"
    }
   ],
   "source": [
    "# What is the ID of the listing that has the largest number of bedrooms?\n",
    "np.where(df_drop_na_num_days_price['bedrooms']>=max(df_drop_na_num_days_price['bedrooms']))"
   ]
  },
  {
   "cell_type": "code",
   "execution_count": 20,
   "metadata": {
    "colab": {
     "base_uri": "https://localhost:8080/"
    },
    "id": "eu1cSceDnsM4",
    "outputId": "c5253373-ffd4-4fea-e8c2-9f42318492b7"
   },
   "outputs": [
    {
     "data": {
      "text/plain": [
       "(array([   88, 10972], dtype=int64),)"
      ]
     },
     "execution_count": 20,
     "metadata": {},
     "output_type": "execute_result"
    }
   ],
   "source": [
    "# What is the ID of the listing with the largest advertised price\n",
    "np.where(df_drop_na_num_days_price['price']>=max(df_drop_na_num_days_price['price']))"
   ]
  },
  {
   "cell_type": "code",
   "execution_count": 21,
   "metadata": {
    "colab": {
     "base_uri": "https://localhost:8080/"
    },
    "id": "ZhzBksbCumZB",
    "outputId": "8f5c2b6f-bddd-4115-faa7-c672a7c67ac9"
   },
   "outputs": [
    {
     "data": {
      "text/plain": [
       "room_type\n",
       "Entire home/apt    14433\n",
       "Hotel room           141\n",
       "Private room        3896\n",
       "Shared room           52\n",
       "Name: id, dtype: int64"
      ]
     },
     "execution_count": 21,
     "metadata": {},
     "output_type": "execute_result"
    }
   ],
   "source": [
    "# There are different room types. How many listings are there for the most common room type?\n",
    "df_drop_na_num_days_price.groupby('room_type',sort=True)['id'].count()"
   ]
  },
  {
   "cell_type": "code",
   "execution_count": 22,
   "metadata": {
    "colab": {
     "base_uri": "https://localhost:8080/"
    },
    "id": "clsRn8tEVw4a",
    "outputId": "99cd1a0f-12e9-46d3-e1db-83da28ef8c85"
   },
   "outputs": [
    {
     "data": {
      "text/plain": [
       "2790"
      ]
     },
     "execution_count": 22,
     "metadata": {},
     "output_type": "execute_result"
    }
   ],
   "source": [
    "# How many hosts are there that have been registered for more than 3000 days?\n",
    "df_drop_na_num_days_price[df_drop_na_num_days_price['host_days']>3000].shape[0]"
   ]
  },
  {
   "cell_type": "markdown",
   "metadata": {
    "id": "_a4I7y_FsVI0"
   },
   "source": [
    "## Question 1d: Exploratory analyses"
   ]
  },
  {
   "cell_type": "markdown",
   "metadata": {
    "id": "IcA5tI8ftsFS"
   },
   "source": [
    "Produce a barplot of the average nightly price per neighbourhood:"
   ]
  },
  {
   "cell_type": "code",
   "execution_count": 23,
   "metadata": {
    "id": "psZPbywKFV27"
   },
   "outputs": [
    {
     "data": {
      "text/plain": [
       "<matplotlib.axes._subplots.AxesSubplot at 0x1f8a3e8f970>"
      ]
     },
     "execution_count": 23,
     "metadata": {},
     "output_type": "execute_result"
    },
    {
     "data": {
      "image/png": "[encoded data removed]",
      "text/plain": [
       "<Figure size 432x288 with 1 Axes>"
      ]
     },
     "metadata": {
      "needs_background": "light"
     },
     "output_type": "display_data"
    }
   ],
   "source": [
    "\n",
    "data=df_drop_na_num_days_price[['neighbourhood_cleansed','price']]\n",
    "dp1=data.groupby('neighbourhood_cleansed').mean().sort_values(by='price')\n",
    "sns.barplot(y=dp1.index,x='price',data=dp1)"
   ]
  },
  {
   "cell_type": "markdown",
   "metadata": {
    "id": "834GVr84yfAA"
   },
   "source": [
    "Plot a correlation matrix as instructed in the Coursework proforma:"
   ]
  },
  {
   "cell_type": "code",
   "execution_count": 24,
   "metadata": {
    "id": "fvS5_JdIFQbG"
   },
   "outputs": [
    {
     "data": {
      "text/plain": [
       "<matplotlib.axes._subplots.AxesSubplot at 0x1f8aab3d4c0>"
      ]
     },
     "execution_count": 24,
     "metadata": {},
     "output_type": "execute_result"
    },
    {
     "data": {
      "image/png": "[encoded data removed]",
      "text/plain": [
       "<Figure size 432x288 with 2 Axes>"
      ]
     },
     "metadata": {
      "needs_background": "light"
     },
     "output_type": "display_data"
    }
   ],
   "source": [
    "\n",
    "data=df_drop_na_num_days_price[['review_scores_cleanliness','review_scores_checkin','review_scores_communication','review_scores_location','review_scores_value']]\n",
    "dp2=data.corr(method='pearson')\n",
    "sns.heatmap(dp2,cmap=\"Reds\",annot=True)"
   ]
  },
  {
   "cell_type": "markdown",
   "metadata": {
    "id": "834GVr84yfAA"
   },
   "source": [
    "Plot a geographical distribution as instructed in the Coursework proforma:"
   ]
  },
  {
   "cell_type": "code",
   "execution_count": 25,
   "metadata": {},
   "outputs": [
    {
     "data": {
      "text/plain": [
       "dtype('float64')"
      ]
     },
     "execution_count": 25,
     "metadata": {},
     "output_type": "execute_result"
    }
   ],
   "source": [
    "df_drop_na_num_days_price['price'].dtype"
   ]
  },
  {
   "cell_type": "code",
   "execution_count": 26,
   "metadata": {
    "id": "qbTja8fwFScc"
   },
   "outputs": [
    {
     "name": "stderr",
     "output_type": "stream",
     "text": [
      "<ipython-input-26-1f3c9b93acf8>:6: SettingWithCopyWarning: \n",
      "A value is trying to be set on a copy of a slice from a DataFrame.\n",
      "Try using .loc[row_indexer,col_indexer] = value instead\n",
      "\n",
      "See the caveats in the documentation: https://pandas.pydata.org/pandas-docs/stable/user_guide/indexing.html#returning-a-view-versus-a-copy\n",
      "  expensive['category']=pd.cut(expensive['price'],bins=listBins,labels=listLabels,\n"
     ]
    },
    {
     "data": {
      "image/png": "[encoded data removed]",
      "text/plain": [
       "<Figure size 864x576 with 1 Axes>"
      ]
     },
     "metadata": {
      "needs_background": "light"
     },
     "output_type": "display_data"
    }
   ],
   "source": [
    "\n",
    "expensive=df_drop_na_num_days_price[df_drop_na_num_days_price['price']>150] #get rid of the listings have less price than 150\n",
    "listLabels=['150-180','180-200','200-260','more than 260'] #set different category \n",
    "listBins=[150,180,200,260,10000]\n",
    "\n",
    "expensive['category']=pd.cut(expensive['price'],bins=listBins,labels=listLabels,\n",
    "                             include_lowest=True)\n",
    "\n",
    "prices_types=['150','179','202','260','500']\n",
    "colors={'150-180':'firebrick','180-200':'teal','200-260':'dodgerblue','more than 260':'lightgreen'}\n",
    "sizes={'150-180':10,'180-200':40,'200-260':80,'more than 260':200}\n",
    "alpha={'150-180':0.3,'180-200':0.5,'200-260':0.6,'more than 260':0.8}\n",
    "\n",
    "%matplotlib inline\n",
    "x=expensive.latitude\n",
    "y=expensive.longitude\n",
    "\n",
    "plt.rcParams['figure.figsize'] = [12, 8]\n",
    "fig, ax = plt.pyplot.subplots()\n",
    "grouped=expensive.groupby('category')\n",
    "zorder_tier=20\n",
    "for key,group in grouped:\n",
    "    group.plot(ax=ax,kind='scatter',x='latitude',y='longitude',\n",
    "               s=sizes[key],color=colors[key],label=key,\n",
    "               alpha=0.5,zorder=zorder_tier)\n",
    "    zorder_tier=zorder_tier-5\n",
    "\n",
    "plt.pyplot.show()"
   ]
  },
  {
   "cell_type": "markdown",
   "metadata": {
    "id": "0dLbkYk6y9eF"
   },
   "source": [
    "---\n",
    "\n",
    "\n",
    "\n"
   ]
  },
  {
   "cell_type": "markdown",
   "metadata": {
    "id": "jtpZraSiE00A"
   },
   "source": [
    "## Question 2a: Linear regression and t-tests\n"
   ]
  },
  {
   "cell_type": "code",
   "execution_count": 27,
   "metadata": {
    "id": "RDCTzGiooPDJ"
   },
   "outputs": [
    {
     "data": {
      "text/plain": [
       "(15880,)"
      ]
     },
     "execution_count": 27,
     "metadata": {},
     "output_type": "execute_result"
    }
   ],
   "source": [
    "# your linear regression code...\n",
    "data=df_drop_na_num_days_price[['review_scores_accuracy','review_scores_cleanliness','review_scores_checkin','review_scores_communication','review_scores_location','review_scores_value','review_scores_rating']]\n",
    "data=data.dropna(axis=0,how='any')\n",
    "x = data[['review_scores_accuracy','review_scores_cleanliness','review_scores_checkin','review_scores_communication','review_scores_location','review_scores_value']]\n",
    "y = data['review_scores_rating']\n",
    "x.shape\n",
    "y.shape"
   ]
  },
  {
   "cell_type": "code",
   "execution_count": 28,
   "metadata": {},
   "outputs": [
    {
     "name": "stdout",
     "output_type": "stream",
     "text": [
      "                             OLS Regression Results                             \n",
      "================================================================================\n",
      "Dep. Variable:     review_scores_rating   R-squared:                       0.726\n",
      "Model:                              OLS   Adj. R-squared:                  0.726\n",
      "Method:                   Least Squares   F-statistic:                     7008.\n",
      "Date:                  Thu, 03 Jun 2021   Prob (F-statistic):               0.00\n",
      "Time:                          00:59:07   Log-Likelihood:                -42957.\n",
      "No. Observations:                 15880   AIC:                         8.593e+04\n",
      "Df Residuals:                     15873   BIC:                         8.598e+04\n",
      "Df Model:                             6                                         \n",
      "Covariance Type:              nonrobust                                         \n",
      "===============================================================================================\n",
      "                                  coef    std err          t      P>|t|      [0.025      0.975]\n",
      "-----------------------------------------------------------------------------------------------\n",
      "review_scores_accuracy          2.6153      0.056     46.889      0.000       2.506       2.725\n",
      "review_scores_cleanliness       2.1438      0.041     52.279      0.000       2.063       2.224\n",
      "review_scores_checkin           1.0232      0.060     16.913      0.000       0.905       1.142\n",
      "review_scores_communication     1.8090      0.066     27.490      0.000       1.680       1.938\n",
      "review_scores_location          0.3988      0.045      8.858      0.000       0.311       0.487\n",
      "review_scores_value             1.9905      0.047     42.354      0.000       1.898       2.083\n",
      "const                          -0.3169      0.550     -0.577      0.564      -1.394       0.760\n",
      "==============================================================================\n",
      "Omnibus:                     4769.894   Durbin-Watson:                   1.991\n",
      "Prob(Omnibus):                  0.000   Jarque-Bera (JB):            90176.958\n",
      "Skew:                          -0.965   Prob(JB):                         0.00\n",
      "Kurtosis:                      14.514   Cond. No.                         450.\n",
      "==============================================================================\n",
      "\n",
      "Warnings:\n",
      "[1] Standard Errors assume that the covariance matrix of the errors is correctly specified.\n"
     ]
    }
   ],
   "source": [
    "x = sm.add_constant(x,prepend=False)\n",
    "mod = sm.OLS(y,x)\n",
    "res = mod.fit()\n",
    "print(res.summary())"
   ]
  },
  {
   "cell_type": "markdown",
   "metadata": {
    "id": "i9Lalo7srWMr"
   },
   "source": [
    "**T-test questions**:\n",
    "\n",
    "Which room types are significantly different in terms of nightly price?\n",
    "\n",
    "YOUR ANSWER (1-2 sentences):  There are significantly different in terms of nightly price in Entire home/apt and Private room,Entire home/apt and Shared room,Hotel room and Private room.\n",
    "\n",
    "Do the significances change if you perform Bonferroni correction to the alpha level: https://en.wikipedia.org/wiki/Bonferroni_correction ?\n",
    "\n",
    "YOUR ANSWER (1-2 sentences):NO"
   ]
  },
  {
   "cell_type": "code",
   "execution_count": 29,
   "metadata": {
    "id": "1gk4SDcE26Qq"
   },
   "outputs": [
    {
     "data": {
      "text/plain": [
       "Ttest_indResult(statistic=2.6069639952778854, pvalue=0.0101094435252948)"
      ]
     },
     "execution_count": 29,
     "metadata": {},
     "output_type": "execute_result"
    }
   ],
   "source": [
    "\n",
    "data=df_drop_na_num_days_price[['room_type','price']]\n",
    "t_data_1=data[data['room_type']=='Entire home/apt']\n",
    "t_data_2=data[data['room_type']=='Hotel room']\n",
    "t_data_3=data[data['room_type']=='Private room']\n",
    "t_data_4=data[data['room_type']=='Shared room']\n",
    "ttest_ind(t_data_1['price'],t_data_2['price'],equal_var=False)"
   ]
  },
  {
   "cell_type": "code",
   "execution_count": 30,
   "metadata": {},
   "outputs": [
    {
     "data": {
      "text/plain": [
       "Ttest_indResult(statistic=35.86280862828723, pvalue=7.176168041890004e-263)"
      ]
     },
     "execution_count": 30,
     "metadata": {},
     "output_type": "execute_result"
    }
   ],
   "source": [
    "ttest_ind(t_data_1['price'],t_data_3['price'],equal_var=False)"
   ]
  },
  {
   "cell_type": "code",
   "execution_count": 31,
   "metadata": {},
   "outputs": [
    {
     "data": {
      "text/plain": [
       "Ttest_indResult(statistic=4.057551563978068, pvalue=0.0001682212990396483)"
      ]
     },
     "execution_count": 31,
     "metadata": {},
     "output_type": "execute_result"
    }
   ],
   "source": [
    "ttest_ind(t_data_1['price'],t_data_4['price'],equal_var=False)"
   ]
  },
  {
   "cell_type": "code",
   "execution_count": 32,
   "metadata": {},
   "outputs": [
    {
     "data": {
      "text/plain": [
       "Ttest_indResult(statistic=2.5408444462719757, pvalue=0.012119588446911016)"
      ]
     },
     "execution_count": 32,
     "metadata": {},
     "output_type": "execute_result"
    }
   ],
   "source": [
    "ttest_ind(t_data_2['price'],t_data_3['price'],equal_var=False)"
   ]
  },
  {
   "cell_type": "code",
   "execution_count": 33,
   "metadata": {},
   "outputs": [
    {
     "data": {
      "text/plain": [
       "Ttest_indResult(statistic=1.219264394039532, pvalue=0.22482136880704187)"
      ]
     },
     "execution_count": 33,
     "metadata": {},
     "output_type": "execute_result"
    }
   ],
   "source": [
    "ttest_ind(t_data_2['price'],t_data_4['price'],equal_var=False)"
   ]
  },
  {
   "cell_type": "code",
   "execution_count": 34,
   "metadata": {},
   "outputs": [
    {
     "data": {
      "text/plain": [
       "Ttest_indResult(statistic=-0.6956014943986626, pvalue=0.4897658941925044)"
      ]
     },
     "execution_count": 34,
     "metadata": {},
     "output_type": "execute_result"
    }
   ],
   "source": [
    "ttest_ind(t_data_3['price'],t_data_4['price'],equal_var=False)"
   ]
  },
  {
   "cell_type": "code",
   "execution_count": null,
   "metadata": {},
   "outputs": [],
   "source": []
  },
  {
   "cell_type": "markdown",
   "metadata": {
    "id": "t8mwnrOhboSC"
   },
   "source": []
  },
  {
   "cell_type": "markdown",
   "metadata": {
    "id": "Z5aMn9YWrNnI"
   },
   "source": []
  },
  {
   "cell_type": "code",
   "execution_count": 35,
   "metadata": {
    "id": "FWj8vwcLFIUL"
   },
   "outputs": [],
   "source": [
    "# your code...\n",
    "def variable_selection(df,predictors,target,alpha):\n",
    "    preds=[]\n",
    "    rem_pred=[]\n",
    "    rsadj_max=0\n",
    "    for col in predictors:\n",
    "        fml=\"{}~{}+1\".format(target,col)\n",
    "        mod=smf.ols(formula=fml,data=df)\n",
    "        res=mod.fit()\n",
    "        #print(++i)\n",
    "        if res.pvalues[col]<=alpha:\n",
    "            rem_pred.append((res.rsquared_adj,col))\n",
    "            print(\"Remaining column name:\"+col)\n",
    "        else:\n",
    "            predictors.remove(col)\n",
    "            print(\"Removed column name:\"+col)\n",
    "    while rem_pred:\n",
    "        rem_pred=[]\n",
    "        for col in predictors:\n",
    "            #print(++i)\n",
    "            fml=\"{}~{}+1\".format(target,'+'.join(preds+[col]))\n",
    "            mod=smf.ols(formula=fml,data=df)\n",
    "            res=mod.fit()\n",
    "            rem_pred.append((res.rsquared_adj,col))\n",
    "        rem_pred.sort()\n",
    "        (rsadj,col)=rem_pred.pop()\n",
    "        if rsadj_max<rsadj:\n",
    "            predictors.remove(col)\n",
    "            preds.append(col)\n",
    "        else:\n",
    "            rem_pred=[]\n",
    "    return preds"
   ]
  },
  {
   "cell_type": "code",
   "execution_count": 36,
   "metadata": {},
   "outputs": [
    {
     "data": {
      "text/html": [
       "<div>\n",
       "<style scoped>\n",
       "    .dataframe tbody tr th:only-of-type {\n",
       "        vertical-align: middle;\n",
       "    }\n",
       "\n",
       "    .dataframe tbody tr th {\n",
       "        vertical-align: top;\n",
       "    }\n",
       "\n",
       "    .dataframe thead th {\n",
       "        text-align: right;\n",
       "    }\n",
       "</style>\n",
       "<table border=\"1\" class=\"dataframe\">\n",
       "  <thead>\n",
       "    <tr style=\"text-align: right;\">\n",
       "      <th></th>\n",
       "      <th>id</th>\n",
       "      <th>host_id</th>\n",
       "      <th>host_is_superhost</th>\n",
       "      <th>host_listings_count</th>\n",
       "      <th>host_has_profile_pic</th>\n",
       "      <th>host_identity_verified</th>\n",
       "      <th>latitude</th>\n",
       "      <th>longitude</th>\n",
       "      <th>accommodates</th>\n",
       "      <th>bedrooms</th>\n",
       "      <th>...</th>\n",
       "      <th>review_scores_communication</th>\n",
       "      <th>review_scores_location</th>\n",
       "      <th>review_scores_value</th>\n",
       "      <th>instant_bookable</th>\n",
       "      <th>reviews_per_month</th>\n",
       "      <th>host_days</th>\n",
       "      <th>Entire home/apt</th>\n",
       "      <th>Hotel room</th>\n",
       "      <th>Private room</th>\n",
       "      <th>Shared room</th>\n",
       "    </tr>\n",
       "  </thead>\n",
       "  <tbody>\n",
       "    <tr>\n",
       "      <th>0</th>\n",
       "      <td>2818</td>\n",
       "      <td>3159</td>\n",
       "      <td>1</td>\n",
       "      <td>1.0</td>\n",
       "      <td>1</td>\n",
       "      <td>1</td>\n",
       "      <td>52.36575</td>\n",
       "      <td>4.94142</td>\n",
       "      <td>2</td>\n",
       "      <td>1.0</td>\n",
       "      <td>...</td>\n",
       "      <td>10.0</td>\n",
       "      <td>9.0</td>\n",
       "      <td>10.0</td>\n",
       "      <td>1</td>\n",
       "      <td>1.95</td>\n",
       "      <td>4635.0</td>\n",
       "      <td>0.0</td>\n",
       "      <td>0.0</td>\n",
       "      <td>1.0</td>\n",
       "      <td>0.0</td>\n",
       "    </tr>\n",
       "    <tr>\n",
       "      <th>1</th>\n",
       "      <td>20168</td>\n",
       "      <td>59484</td>\n",
       "      <td>0</td>\n",
       "      <td>2.0</td>\n",
       "      <td>1</td>\n",
       "      <td>1</td>\n",
       "      <td>52.36509</td>\n",
       "      <td>4.89354</td>\n",
       "      <td>2</td>\n",
       "      <td>1.0</td>\n",
       "      <td>...</td>\n",
       "      <td>10.0</td>\n",
       "      <td>10.0</td>\n",
       "      <td>9.0</td>\n",
       "      <td>1</td>\n",
       "      <td>2.58</td>\n",
       "      <td>4201.0</td>\n",
       "      <td>0.0</td>\n",
       "      <td>0.0</td>\n",
       "      <td>1.0</td>\n",
       "      <td>0.0</td>\n",
       "    </tr>\n",
       "    <tr>\n",
       "      <th>2</th>\n",
       "      <td>25428</td>\n",
       "      <td>56142</td>\n",
       "      <td>1</td>\n",
       "      <td>2.0</td>\n",
       "      <td>1</td>\n",
       "      <td>0</td>\n",
       "      <td>52.37297</td>\n",
       "      <td>4.88339</td>\n",
       "      <td>3</td>\n",
       "      <td>1.0</td>\n",
       "      <td>...</td>\n",
       "      <td>10.0</td>\n",
       "      <td>10.0</td>\n",
       "      <td>10.0</td>\n",
       "      <td>0</td>\n",
       "      <td>0.14</td>\n",
       "      <td>4213.0</td>\n",
       "      <td>1.0</td>\n",
       "      <td>0.0</td>\n",
       "      <td>0.0</td>\n",
       "      <td>0.0</td>\n",
       "    </tr>\n",
       "    <tr>\n",
       "      <th>3</th>\n",
       "      <td>27886</td>\n",
       "      <td>97647</td>\n",
       "      <td>1</td>\n",
       "      <td>1.0</td>\n",
       "      <td>1</td>\n",
       "      <td>1</td>\n",
       "      <td>52.38761</td>\n",
       "      <td>4.89188</td>\n",
       "      <td>2</td>\n",
       "      <td>1.0</td>\n",
       "      <td>...</td>\n",
       "      <td>10.0</td>\n",
       "      <td>10.0</td>\n",
       "      <td>10.0</td>\n",
       "      <td>1</td>\n",
       "      <td>2.01</td>\n",
       "      <td>4090.0</td>\n",
       "      <td>0.0</td>\n",
       "      <td>0.0</td>\n",
       "      <td>1.0</td>\n",
       "      <td>0.0</td>\n",
       "    </tr>\n",
       "    <tr>\n",
       "      <th>4</th>\n",
       "      <td>28871</td>\n",
       "      <td>124245</td>\n",
       "      <td>1</td>\n",
       "      <td>2.0</td>\n",
       "      <td>1</td>\n",
       "      <td>1</td>\n",
       "      <td>52.36610</td>\n",
       "      <td>4.88953</td>\n",
       "      <td>2</td>\n",
       "      <td>1.0</td>\n",
       "      <td>...</td>\n",
       "      <td>10.0</td>\n",
       "      <td>10.0</td>\n",
       "      <td>10.0</td>\n",
       "      <td>0</td>\n",
       "      <td>2.68</td>\n",
       "      <td>4039.0</td>\n",
       "      <td>0.0</td>\n",
       "      <td>0.0</td>\n",
       "      <td>1.0</td>\n",
       "      <td>0.0</td>\n",
       "    </tr>\n",
       "    <tr>\n",
       "      <th>...</th>\n",
       "      <td>...</td>\n",
       "      <td>...</td>\n",
       "      <td>...</td>\n",
       "      <td>...</td>\n",
       "      <td>...</td>\n",
       "      <td>...</td>\n",
       "      <td>...</td>\n",
       "      <td>...</td>\n",
       "      <td>...</td>\n",
       "      <td>...</td>\n",
       "      <td>...</td>\n",
       "      <td>...</td>\n",
       "      <td>...</td>\n",
       "      <td>...</td>\n",
       "      <td>...</td>\n",
       "      <td>...</td>\n",
       "      <td>...</td>\n",
       "      <td>...</td>\n",
       "      <td>...</td>\n",
       "      <td>...</td>\n",
       "      <td>...</td>\n",
       "    </tr>\n",
       "    <tr>\n",
       "      <th>18442</th>\n",
       "      <td>46522370</td>\n",
       "      <td>372878845</td>\n",
       "      <td>0</td>\n",
       "      <td>7.0</td>\n",
       "      <td>1</td>\n",
       "      <td>1</td>\n",
       "      <td>52.35915</td>\n",
       "      <td>4.89965</td>\n",
       "      <td>4</td>\n",
       "      <td>1.0</td>\n",
       "      <td>...</td>\n",
       "      <td>10.0</td>\n",
       "      <td>10.0</td>\n",
       "      <td>10.0</td>\n",
       "      <td>1</td>\n",
       "      <td>1.00</td>\n",
       "      <td>224.0</td>\n",
       "      <td>0.0</td>\n",
       "      <td>0.0</td>\n",
       "      <td>1.0</td>\n",
       "      <td>0.0</td>\n",
       "    </tr>\n",
       "    <tr>\n",
       "      <th>18445</th>\n",
       "      <td>46522591</td>\n",
       "      <td>372878845</td>\n",
       "      <td>0</td>\n",
       "      <td>7.0</td>\n",
       "      <td>1</td>\n",
       "      <td>1</td>\n",
       "      <td>52.35933</td>\n",
       "      <td>4.89904</td>\n",
       "      <td>2</td>\n",
       "      <td>1.0</td>\n",
       "      <td>...</td>\n",
       "      <td>10.0</td>\n",
       "      <td>10.0</td>\n",
       "      <td>10.0</td>\n",
       "      <td>1</td>\n",
       "      <td>1.00</td>\n",
       "      <td>224.0</td>\n",
       "      <td>0.0</td>\n",
       "      <td>0.0</td>\n",
       "      <td>1.0</td>\n",
       "      <td>0.0</td>\n",
       "    </tr>\n",
       "    <tr>\n",
       "      <th>18446</th>\n",
       "      <td>46522658</td>\n",
       "      <td>372878845</td>\n",
       "      <td>0</td>\n",
       "      <td>7.0</td>\n",
       "      <td>1</td>\n",
       "      <td>1</td>\n",
       "      <td>52.35901</td>\n",
       "      <td>4.89771</td>\n",
       "      <td>2</td>\n",
       "      <td>1.0</td>\n",
       "      <td>...</td>\n",
       "      <td>10.0</td>\n",
       "      <td>10.0</td>\n",
       "      <td>10.0</td>\n",
       "      <td>1</td>\n",
       "      <td>1.00</td>\n",
       "      <td>224.0</td>\n",
       "      <td>0.0</td>\n",
       "      <td>0.0</td>\n",
       "      <td>1.0</td>\n",
       "      <td>0.0</td>\n",
       "    </tr>\n",
       "    <tr>\n",
       "      <th>18450</th>\n",
       "      <td>46558182</td>\n",
       "      <td>327652332</td>\n",
       "      <td>0</td>\n",
       "      <td>8.0</td>\n",
       "      <td>1</td>\n",
       "      <td>1</td>\n",
       "      <td>52.37520</td>\n",
       "      <td>4.89242</td>\n",
       "      <td>4</td>\n",
       "      <td>2.0</td>\n",
       "      <td>...</td>\n",
       "      <td>10.0</td>\n",
       "      <td>10.0</td>\n",
       "      <td>10.0</td>\n",
       "      <td>1</td>\n",
       "      <td>1.00</td>\n",
       "      <td>505.0</td>\n",
       "      <td>1.0</td>\n",
       "      <td>0.0</td>\n",
       "      <td>0.0</td>\n",
       "      <td>0.0</td>\n",
       "    </tr>\n",
       "    <tr>\n",
       "      <th>18506</th>\n",
       "      <td>46866507</td>\n",
       "      <td>159220160</td>\n",
       "      <td>0</td>\n",
       "      <td>9.0</td>\n",
       "      <td>1</td>\n",
       "      <td>1</td>\n",
       "      <td>52.37206</td>\n",
       "      <td>4.87540</td>\n",
       "      <td>2</td>\n",
       "      <td>1.0</td>\n",
       "      <td>...</td>\n",
       "      <td>10.0</td>\n",
       "      <td>10.0</td>\n",
       "      <td>10.0</td>\n",
       "      <td>1</td>\n",
       "      <td>1.00</td>\n",
       "      <td>1293.0</td>\n",
       "      <td>1.0</td>\n",
       "      <td>0.0</td>\n",
       "      <td>0.0</td>\n",
       "      <td>0.0</td>\n",
       "    </tr>\n",
       "  </tbody>\n",
       "</table>\n",
       "<p>14967 rows × 34 columns</p>\n",
       "</div>"
      ],
      "text/plain": [
       "             id    host_id  host_is_superhost  host_listings_count  \\\n",
       "0          2818       3159                  1                  1.0   \n",
       "1         20168      59484                  0                  2.0   \n",
       "2         25428      56142                  1                  2.0   \n",
       "3         27886      97647                  1                  1.0   \n",
       "4         28871     124245                  1                  2.0   \n",
       "...         ...        ...                ...                  ...   \n",
       "18442  46522370  372878845                  0                  7.0   \n",
       "18445  46522591  372878845                  0                  7.0   \n",
       "18446  46522658  372878845                  0                  7.0   \n",
       "18450  46558182  327652332                  0                  8.0   \n",
       "18506  46866507  159220160                  0                  9.0   \n",
       "\n",
       "       host_has_profile_pic  host_identity_verified  latitude  longitude  \\\n",
       "0                         1                       1  52.36575    4.94142   \n",
       "1                         1                       1  52.36509    4.89354   \n",
       "2                         1                       0  52.37297    4.88339   \n",
       "3                         1                       1  52.38761    4.89188   \n",
       "4                         1                       1  52.36610    4.88953   \n",
       "...                     ...                     ...       ...        ...   \n",
       "18442                     1                       1  52.35915    4.89965   \n",
       "18445                     1                       1  52.35933    4.89904   \n",
       "18446                     1                       1  52.35901    4.89771   \n",
       "18450                     1                       1  52.37520    4.89242   \n",
       "18506                     1                       1  52.37206    4.87540   \n",
       "\n",
       "       accommodates  bedrooms  ...  review_scores_communication  \\\n",
       "0                 2       1.0  ...                         10.0   \n",
       "1                 2       1.0  ...                         10.0   \n",
       "2                 3       1.0  ...                         10.0   \n",
       "3                 2       1.0  ...                         10.0   \n",
       "4                 2       1.0  ...                         10.0   \n",
       "...             ...       ...  ...                          ...   \n",
       "18442             4       1.0  ...                         10.0   \n",
       "18445             2       1.0  ...                         10.0   \n",
       "18446             2       1.0  ...                         10.0   \n",
       "18450             4       2.0  ...                         10.0   \n",
       "18506             2       1.0  ...                         10.0   \n",
       "\n",
       "       review_scores_location  review_scores_value  instant_bookable  \\\n",
       "0                         9.0                 10.0                 1   \n",
       "1                        10.0                  9.0                 1   \n",
       "2                        10.0                 10.0                 0   \n",
       "3                        10.0                 10.0                 1   \n",
       "4                        10.0                 10.0                 0   \n",
       "...                       ...                  ...               ...   \n",
       "18442                    10.0                 10.0                 1   \n",
       "18445                    10.0                 10.0                 1   \n",
       "18446                    10.0                 10.0                 1   \n",
       "18450                    10.0                 10.0                 1   \n",
       "18506                    10.0                 10.0                 1   \n",
       "\n",
       "       reviews_per_month  host_days  Entire home/apt  Hotel room  \\\n",
       "0                   1.95     4635.0              0.0         0.0   \n",
       "1                   2.58     4201.0              0.0         0.0   \n",
       "2                   0.14     4213.0              1.0         0.0   \n",
       "3                   2.01     4090.0              0.0         0.0   \n",
       "4                   2.68     4039.0              0.0         0.0   \n",
       "...                  ...        ...              ...         ...   \n",
       "18442               1.00      224.0              0.0         0.0   \n",
       "18445               1.00      224.0              0.0         0.0   \n",
       "18446               1.00      224.0              0.0         0.0   \n",
       "18450               1.00      505.0              1.0         0.0   \n",
       "18506               1.00     1293.0              1.0         0.0   \n",
       "\n",
       "       Private room  Shared room  \n",
       "0               1.0          0.0  \n",
       "1               1.0          0.0  \n",
       "2               0.0          0.0  \n",
       "3               1.0          0.0  \n",
       "4               1.0          0.0  \n",
       "...             ...          ...  \n",
       "18442           1.0          0.0  \n",
       "18445           1.0          0.0  \n",
       "18446           1.0          0.0  \n",
       "18450           0.0          0.0  \n",
       "18506           0.0          0.0  \n",
       "\n",
       "[14967 rows x 34 columns]"
      ]
     },
     "execution_count": 36,
     "metadata": {},
     "output_type": "execute_result"
    }
   ],
   "source": [
    "data_vs=df_drop_na_num_days_price.select_dtypes(exclude='object')\n",
    "data_vs=data_vs.select_dtypes(exclude='datetime')\n",
    "data_vs=data_vs.join(pd.get_dummies(df_drop_na_num_days_price['room_type'],dtype=float))\n",
    "data_vs.dropna(axis=0,how=\"any\")"
   ]
  },
  {
   "cell_type": "code",
   "execution_count": 37,
   "metadata": {},
   "outputs": [],
   "source": [
    "data_vs=data_vs.rename(columns={'Entire home/apt':'entire_home',\"Hotel room\":\"hotel_room\",\"Private room\":\"private_room\",\"Shared room\":\"shared_room\"})\n",
    "predictors=data_vs.columns.tolist()\n",
    "target=\"price\"\n",
    "#data_vs.columns=predictors\n",
    "predictors.remove(target)"
   ]
  },
  {
   "cell_type": "code",
   "execution_count": 38,
   "metadata": {},
   "outputs": [
    {
     "name": "stdout",
     "output_type": "stream",
     "text": [
      "Removed column name:id\n",
      "Remaining column name:host_is_superhost\n",
      "Remaining column name:host_listings_count\n",
      "Removed column name:host_has_profile_pic\n",
      "Removed column name:latitude\n",
      "Remaining column name:accommodates\n",
      "Remaining column name:bedrooms\n",
      "Remaining column name:beds\n",
      "Remaining column name:minimum_nights\n",
      "Remaining column name:maximum_nights\n",
      "Remaining column name:availability_30\n",
      "Remaining column name:availability_60\n",
      "Remaining column name:availability_90\n",
      "Remaining column name:availability_365\n",
      "Remaining column name:number_of_reviews\n",
      "Remaining column name:number_of_reviews_ltm\n",
      "Remaining column name:review_scores_rating\n",
      "Removed column name:review_scores_accuracy\n",
      "Removed column name:review_scores_checkin\n",
      "Remaining column name:review_scores_location\n",
      "Removed column name:review_scores_value\n",
      "Remaining column name:reviews_per_month\n",
      "Remaining column name:host_days\n",
      "Remaining column name:entire_home\n",
      "Removed column name:hotel_room\n",
      "Remaining column name:shared_room\n"
     ]
    },
    {
     "data": {
      "text/plain": [
       "['accommodates',\n",
       " 'review_scores_location',\n",
       " 'private_room',\n",
       " 'availability_365',\n",
       " 'number_of_reviews_ltm',\n",
       " 'bedrooms',\n",
       " 'host_listings_count',\n",
       " 'minimum_nights',\n",
       " 'availability_30',\n",
       " 'review_scores_communication',\n",
       " 'review_scores_cleanliness',\n",
       " 'shared_room',\n",
       " 'host_is_superhost',\n",
       " 'number_of_reviews',\n",
       " 'maximum_nights',\n",
       " 'availability_60',\n",
       " 'longitude',\n",
       " 'instant_bookable',\n",
       " 'host_days',\n",
       " 'entire_home',\n",
       " 'host_identity_verified',\n",
       " 'availability_90',\n",
       " 'host_id',\n",
       " 'reviews_per_month',\n",
       " 'review_scores_rating',\n",
       " 'beds']"
      ]
     },
     "execution_count": 38,
     "metadata": {},
     "output_type": "execute_result"
    }
   ],
   "source": [
    "col_vs=variable_selection(data_vs,predictors,target,0.05)\n",
    "col_vs"
   ]
  },
  {
   "cell_type": "markdown",
   "metadata": {
    "id": "lzz5uexvkgil"
   },
   "source": [
    "## Question 2c: Recommendation systems"
   ]
  },
  {
   "cell_type": "markdown",
   "metadata": {
    "id": "uW-LealN0kOU"
   },
   "source": [
    "### Recommend a neighbourhood given a budget"
   ]
  },
  {
   "cell_type": "code",
   "execution_count": 39,
   "metadata": {
    "id": "DqUlxeDk4Hww"
   },
   "outputs": [],
   "source": [
    "def recommend_neighbourhood(df,budget_min,budget_max,relative):\n",
    "    can_house = df[(df['price']>= budget_min) & (df['price']<=budget_max)]\n",
    "    can_house = can_house.groupby(['neighbourhood_cleansed'])['id'].count()\n",
    "    can_house = pd.DataFrame(can_house)\n",
    "\n",
    "    if(relative):\n",
    "        nei_count = df.groupby(['neighbourhood_cleansed'])['id'].count()\n",
    "        nei_count = pd.DataFrame(nei_count)\n",
    "        nei_count = nei_count.reset_index()\n",
    "        nei_count = nei_count.rename(columns={'id':'id_count'})\n",
    "        can_house = can_house.reset_index()\n",
    "        can_house = can_house.rename(columns={'id':'budget_neighbourhood_count'})\n",
    "        budget_nei_result = can_house.merge(nei_count,on=['neighbourhood_cleansed'],how='inner')\n",
    "        budget_nei_result['relative_rate'] = budget_nei_result['budget_neighbourhood_count'] / budget_nei_result['neighbourhood_count']\n",
    "        budget_nei_result = budget_nei_result.sort_values('relative_rate',ascending=False)\n",
    "        budget_nei_result_list = budget_nei_result['neighbourhood_cleansed'].tolist()\n",
    "        return budget_nei_result_list[0]\n",
    "    else:\n",
    "         recommend_result = can_house.sort_values('id',ascending=False)\n",
    "         recommend_result_list = recommend_result.index.tolist()\n",
    "         return recommend_result_list[0]\n",
    "        "
   ]
  },
  {
   "cell_type": "code",
   "execution_count": 40,
   "metadata": {},
   "outputs": [
    {
     "name": "stdout",
     "output_type": "stream",
     "text": [
      "De Baarsjes - Oud-West\n"
     ]
    }
   ],
   "source": [
    "neighbourhood_result = recommend_neighbourhood(df_drop_na_num_days_price,200,5000,False)\n",
    "print(neighbourhood_result)"
   ]
  },
  {
   "cell_type": "markdown",
   "metadata": {
    "id": "a-FSWRJ6zSMM"
   },
   "source": [
    "### Price recommender for hosts"
   ]
  },
  {
   "cell_type": "code",
   "execution_count": 41,
   "metadata": {
    "id": "DqUlxeDk4Hww"
   },
   "outputs": [],
   "source": [
    "\n",
    "def recommend_price(df,latitude,longitude,n_neighbours,room_type):\n",
    "    # \n",
    "    price_recommder = df[['id','price','latitude','longitude','room_type']]\n",
    "\n",
    "    if(room_type == ''):\n",
    "        Y = np.array([latitude,longitude])\n",
    "        cal_values_list = []\n",
    "        for index,rows in price_recommder.iterrows():\n",
    "          X = np.array([float(rows['latitude']),float(rows['longitude'])])\n",
    "          calute_value = np.sqrt(np.sum(np.square(X-Y)))\n",
    "          cal_values_list.append(calute_value)\n",
    "        price_recommder['cal_values']=pd.Series(cal_values_list)\n",
    "        price_result_recommder = price_recommder.sort_values(by='cal_values')\n",
    "        result_recommder = price_result_recommder.head(n_neighbours)\n",
    "        return result_recommder['price'].mean()\n",
    "    else:\n",
    "        price_recommder = price_recommder[price_recommder['room_type']==room_type]\n",
    "        Y = np.array([latitude,longitude])\n",
    "        cal_values_list = []\n",
    "        for index,rows in price_recommder.iterrows():\n",
    "          X = np.array([float(rows['latitude']),float(rows['longitude'])])\n",
    "          calute_value = np.sqrt(np.sum(np.square(X-Y)))\n",
    "          cal_values_list.append(calute_value)\n",
    "        price_recommder['cal_values']=pd.Series(cal_values_list)\n",
    "        price_result_recommder = price_recommder.sort_values(by='cal_values')\n",
    "        result_recommder = price_result_recommder.head(n_neighbours)\n",
    "        return result_recommder['price'].mean()\n",
    "    return price_recommender"
   ]
  },
  {
   "cell_type": "code",
   "execution_count": 42,
   "metadata": {},
   "outputs": [
    {
     "name": "stdout",
     "output_type": "stream",
     "text": [
      "117.6\n",
      "nan\n"
     ]
    },
    {
     "name": "stderr",
     "output_type": "stream",
     "text": [
      "<ipython-input-41-9ab1134b2075>:13: SettingWithCopyWarning: \n",
      "A value is trying to be set on a copy of a slice from a DataFrame.\n",
      "Try using .loc[row_indexer,col_indexer] = value instead\n",
      "\n",
      "See the caveats in the documentation: https://pandas.pydata.org/pandas-docs/stable/user_guide/indexing.html#returning-a-view-versus-a-copy\n",
      "  price_recommder['cal_values']=pd.Series(cal_values_list)\n",
      "<ipython-input-41-9ab1134b2075>:25: DeprecationWarning: The default dtype for empty Series will be 'object' instead of 'float64' in a future version. Specify a dtype explicitly to silence this warning.\n",
      "  price_recommder['cal_values']=pd.Series(cal_values_list)\n"
     ]
    }
   ],
   "source": [
    "price_recommder_val = recommend_price(df_drop_na_num_days_price,52.1,5.1,5,'')\n",
    "print(price_recommder_val)\n",
    "\n",
    "price_recommder_val = recommend_price(df_drop_na_num_days_price,52.1,5.1,5,'entire_home')\n",
    "print(price_recommder_val)\n",
    "\n"
   ]
  },
  {
   "cell_type": "code",
   "execution_count": null,
   "metadata": {},
   "outputs": [],
   "source": []
  },
  {
   "cell_type": "code",
   "execution_count": null,
   "metadata": {},
   "outputs": [],
   "source": []
  }
 ],
 "metadata": {
  "colab": {
   "collapsed_sections": [],
   "name": "Part1_2.ipynb",
   "provenance": [],
   "toc_visible": true
  },
  "kernelspec": {
   "display_name": "Python 3",
   "language": "python",
   "name": "python3"
  },
  "language_info": {
   "codemirror_mode": {
    "name": "ipython",
    "version": 3
   },
   "file_extension": ".py",
   "mimetype": "text/x-python",
   "name": "python",
   "nbconvert_exporter": "python",
   "pygments_lexer": "ipython3",
   "version": "3.8.3"
  }
 },
 "nbformat": 4,
 "nbformat_minor": 1
}